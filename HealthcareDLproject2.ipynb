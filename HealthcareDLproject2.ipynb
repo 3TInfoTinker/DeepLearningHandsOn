{
  "nbformat": 4,
  "nbformat_minor": 0,
  "metadata": {
    "colab": {
      "name": "HealthcareDLproject2.ipynb",
      "provenance": [],
      "collapsed_sections": [],
      "mount_file_id": "1k6_KUeOmK7QgiNLK3faG5XStD3l5pB8z",
      "authorship_tag": "ABX9TyPhIV66ODK36E+O32a/JF8P",
      "include_colab_link": true
    },
    "kernelspec": {
      "name": "python3",
      "display_name": "Python 3"
    }
  },
  "cells": [
    {
      "cell_type": "markdown",
      "metadata": {
        "id": "view-in-github",
        "colab_type": "text"
      },
      "source": [
        "<a href=\"https://colab.research.google.com/github/3TInfoTinker/DeepLearningHandsOn/blob/main/HealthcareDLproject2.ipynb\" target=\"_parent\"><img src=\"https://colab.research.google.com/assets/colab-badge.svg\" alt=\"Open In Colab\"/></a>"
      ]
    },
    {
      "cell_type": "markdown",
      "metadata": {
        "id": "GaiHnKGezUdh"
      },
      "source": [
        "#**🧐 Find out the following:**   *DL Handson Homework Assignment-2*\n",
        "- What is the most prominent and relevant factor causing the stroke?\n",
        "- Visualize Age and BMI frequency.\n",
        "- Find a correlation between Age and Gender. ✔\n",
        "- Find a correlation between hypertension and Avg Glucose level. ✔\n",
        "- Find a correlation between Marital status and Smoking status. ✔\n",
        "- Find if there is any relation between work type and heart disease. ✔\n",
        "- Find the frequency of Smoking status in the form of Histogram. \n",
        "- What is Min, Max and Avg glucose level? ✔\n",
        "- Find the frequency of Males and females in the data.\n",
        "- Find if marital status is related to smoking status. ✔\n",
        "\n",
        "**For those who have done ML, DL course:**\n",
        "- Can you make a predictive Model using ML methods? ✔\n",
        "\n"
      ]
    },
    {
      "cell_type": "markdown",
      "metadata": {
        "id": "LGPAXqYBLHCa"
      },
      "source": [
        "**imbalanced-learn is a python package offering a number of re-sampling techniques commonly used in datasets showing strong between-class imbalance. It is compatible with scikit-learn and is part of scikit-learn-contrib projects.[ https://pypi.org/project/imbalanced-learn/**"
      ]
    },
    {
      "cell_type": "code",
      "metadata": {
        "id": "zuEE6nTQVgGW",
        "colab": {
          "base_uri": "https://localhost:8080/"
        },
        "outputId": "389faa87-ca39-4ee2-ba0f-bedb01fd2e75"
      },
      "source": [
        "%cd drive/MyDrive/DLdataz/DLProject/"
      ],
      "execution_count": null,
      "outputs": [
        {
          "output_type": "stream",
          "text": [
            "[Errno 2] No such file or directory: 'drive/MyDrive/DLdataz/DLProject/'\n",
            "/content/drive/MyDrive/DLdataz/DLProject\n"
          ],
          "name": "stdout"
        }
      ]
    },
    {
      "cell_type": "code",
      "metadata": {
        "id": "yRcBES1DKjoZ"
      },
      "source": [
        "import pandas as pd\n",
        "import numpy as np\n",
        "import matplotlib.pyplot as plt\n",
        "import sklearn\n",
        "import seaborn as sns\n",
        "#from sklearn.impute import SimpleImputer\n",
        "from sklearn.naive_bayes import GaussianNB\n",
        "from sklearn.model_selection import cross_validate\n",
        "\n",
        "from sklearn.preprocessing import LabelEncoder\n",
        "from sklearn.model_selection import train_test_split\n",
        "\n",
        "from sklearn.tree import DecisionTreeClassifier\n",
        "from sklearn.linear_model import LogisticRegression\n",
        "from sklearn.metrics import roc_curve\n",
        "from sklearn.ensemble import RandomForestClassifier \n",
        "from sklearn.metrics import classification_report, auc, roc_auc_score,accuracy_score, confusion_matrix, precision_score, recall_score\n"
      ],
      "execution_count": null,
      "outputs": []
    },
    {
      "cell_type": "markdown",
      "metadata": {
        "id": "F4Fa2JLjX1bR"
      },
      "source": [
        "**💔 I split one file of 5110 patient's records into Tow files:**\n",
        "- File with 1500 rows for Testing model.\n",
        "- File with 3610 rows for Training model.\n"
      ]
    },
    {
      "cell_type": "code",
      "metadata": {
        "colab": {
          "base_uri": "https://localhost:8080/"
        },
        "id": "vrrGWgNRX0Dh",
        "outputId": "1e554328-2688-4df8-eaf4-b9dd9fd66033"
      },
      "source": [
        "testdata = pd.read_csv('Proj2test.csv')\n",
        "traindata = pd.read_csv('Proj2train.csv')\n",
        "\n",
        "shaptr = traindata.shape\n",
        "shaptst = testdata.shape\n",
        "\n",
        "print(\"Training Data Shape:\", shaptr, \"\\n\\nTest Data Shape:\", shaptst)"
      ],
      "execution_count": null,
      "outputs": [
        {
          "output_type": "stream",
          "text": [
            "Training Data Shape: (3610, 12) \n",
            "\n",
            "Test Data Shape: (1500, 12)\n"
          ],
          "name": "stdout"
        }
      ]
    },
    {
      "cell_type": "code",
      "metadata": {
        "id": "jbJiVrPCJLL9",
        "colab": {
          "base_uri": "https://localhost:8080/",
          "height": 251
        },
        "outputId": "ced66e27-b9c4-4ffc-e25c-af6c93df4fce"
      },
      "source": [
        "traindata.head()"
      ],
      "execution_count": null,
      "outputs": [
        {
          "output_type": "execute_result",
          "data": {
            "text/html": [
              "<div>\n",
              "<style scoped>\n",
              "    .dataframe tbody tr th:only-of-type {\n",
              "        vertical-align: middle;\n",
              "    }\n",
              "\n",
              "    .dataframe tbody tr th {\n",
              "        vertical-align: top;\n",
              "    }\n",
              "\n",
              "    .dataframe thead th {\n",
              "        text-align: right;\n",
              "    }\n",
              "</style>\n",
              "<table border=\"1\" class=\"dataframe\">\n",
              "  <thead>\n",
              "    <tr style=\"text-align: right;\">\n",
              "      <th></th>\n",
              "      <th>id</th>\n",
              "      <th>gender</th>\n",
              "      <th>age</th>\n",
              "      <th>hypertension</th>\n",
              "      <th>heart_disease</th>\n",
              "      <th>ever_married</th>\n",
              "      <th>work_type</th>\n",
              "      <th>Residence_type</th>\n",
              "      <th>avg_glucose_level</th>\n",
              "      <th>bmi</th>\n",
              "      <th>smoking_status</th>\n",
              "      <th>stroke</th>\n",
              "    </tr>\n",
              "  </thead>\n",
              "  <tbody>\n",
              "    <tr>\n",
              "      <th>0</th>\n",
              "      <td>9046</td>\n",
              "      <td>Male</td>\n",
              "      <td>67.0</td>\n",
              "      <td>0</td>\n",
              "      <td>1</td>\n",
              "      <td>Yes</td>\n",
              "      <td>Private</td>\n",
              "      <td>Urban</td>\n",
              "      <td>228.69</td>\n",
              "      <td>36.6</td>\n",
              "      <td>formerly smoked</td>\n",
              "      <td>1</td>\n",
              "    </tr>\n",
              "    <tr>\n",
              "      <th>1</th>\n",
              "      <td>51676</td>\n",
              "      <td>Female</td>\n",
              "      <td>61.0</td>\n",
              "      <td>0</td>\n",
              "      <td>0</td>\n",
              "      <td>Yes</td>\n",
              "      <td>Self-employed</td>\n",
              "      <td>Rural</td>\n",
              "      <td>202.21</td>\n",
              "      <td>NaN</td>\n",
              "      <td>never smoked</td>\n",
              "      <td>1</td>\n",
              "    </tr>\n",
              "    <tr>\n",
              "      <th>2</th>\n",
              "      <td>31112</td>\n",
              "      <td>Male</td>\n",
              "      <td>80.0</td>\n",
              "      <td>0</td>\n",
              "      <td>1</td>\n",
              "      <td>Yes</td>\n",
              "      <td>Private</td>\n",
              "      <td>Rural</td>\n",
              "      <td>105.92</td>\n",
              "      <td>32.5</td>\n",
              "      <td>never smoked</td>\n",
              "      <td>1</td>\n",
              "    </tr>\n",
              "    <tr>\n",
              "      <th>3</th>\n",
              "      <td>60182</td>\n",
              "      <td>Female</td>\n",
              "      <td>49.0</td>\n",
              "      <td>0</td>\n",
              "      <td>0</td>\n",
              "      <td>Yes</td>\n",
              "      <td>Private</td>\n",
              "      <td>Urban</td>\n",
              "      <td>171.23</td>\n",
              "      <td>34.4</td>\n",
              "      <td>smokes</td>\n",
              "      <td>1</td>\n",
              "    </tr>\n",
              "    <tr>\n",
              "      <th>4</th>\n",
              "      <td>1665</td>\n",
              "      <td>Female</td>\n",
              "      <td>79.0</td>\n",
              "      <td>1</td>\n",
              "      <td>0</td>\n",
              "      <td>Yes</td>\n",
              "      <td>Self-employed</td>\n",
              "      <td>Rural</td>\n",
              "      <td>174.12</td>\n",
              "      <td>24.0</td>\n",
              "      <td>never smoked</td>\n",
              "      <td>1</td>\n",
              "    </tr>\n",
              "  </tbody>\n",
              "</table>\n",
              "</div>"
            ],
            "text/plain": [
              "      id  gender   age  ...   bmi   smoking_status stroke\n",
              "0   9046    Male  67.0  ...  36.6  formerly smoked      1\n",
              "1  51676  Female  61.0  ...   NaN     never smoked      1\n",
              "2  31112    Male  80.0  ...  32.5     never smoked      1\n",
              "3  60182  Female  49.0  ...  34.4           smokes      1\n",
              "4   1665  Female  79.0  ...  24.0     never smoked      1\n",
              "\n",
              "[5 rows x 12 columns]"
            ]
          },
          "metadata": {
            "tags": []
          },
          "execution_count": 6
        }
      ]
    },
    {
      "cell_type": "code",
      "metadata": {
        "id": "eqtoC5g5JLPs",
        "colab": {
          "base_uri": "https://localhost:8080/",
          "height": 217
        },
        "outputId": "2c68379b-1e92-42a5-dc4c-6964da185c41"
      },
      "source": [
        "testdata.head()"
      ],
      "execution_count": null,
      "outputs": [
        {
          "output_type": "execute_result",
          "data": {
            "text/html": [
              "<div>\n",
              "<style scoped>\n",
              "    .dataframe tbody tr th:only-of-type {\n",
              "        vertical-align: middle;\n",
              "    }\n",
              "\n",
              "    .dataframe tbody tr th {\n",
              "        vertical-align: top;\n",
              "    }\n",
              "\n",
              "    .dataframe thead th {\n",
              "        text-align: right;\n",
              "    }\n",
              "</style>\n",
              "<table border=\"1\" class=\"dataframe\">\n",
              "  <thead>\n",
              "    <tr style=\"text-align: right;\">\n",
              "      <th></th>\n",
              "      <th>id</th>\n",
              "      <th>gender</th>\n",
              "      <th>age</th>\n",
              "      <th>hypertension</th>\n",
              "      <th>heart_disease</th>\n",
              "      <th>ever_married</th>\n",
              "      <th>work_type</th>\n",
              "      <th>Residence_type</th>\n",
              "      <th>avg_glucose_level</th>\n",
              "      <th>bmi</th>\n",
              "      <th>smoking_status</th>\n",
              "      <th>stroke</th>\n",
              "    </tr>\n",
              "  </thead>\n",
              "  <tbody>\n",
              "    <tr>\n",
              "      <th>0</th>\n",
              "      <td>67055</td>\n",
              "      <td>Female</td>\n",
              "      <td>31.00</td>\n",
              "      <td>0</td>\n",
              "      <td>0</td>\n",
              "      <td>Yes</td>\n",
              "      <td>Private</td>\n",
              "      <td>Rural</td>\n",
              "      <td>77.01</td>\n",
              "      <td>31.3</td>\n",
              "      <td>formerly smoked</td>\n",
              "      <td>0</td>\n",
              "    </tr>\n",
              "    <tr>\n",
              "      <th>1</th>\n",
              "      <td>51024</td>\n",
              "      <td>Female</td>\n",
              "      <td>24.00</td>\n",
              "      <td>0</td>\n",
              "      <td>0</td>\n",
              "      <td>Yes</td>\n",
              "      <td>Private</td>\n",
              "      <td>Urban</td>\n",
              "      <td>105.26</td>\n",
              "      <td>26.1</td>\n",
              "      <td>never smoked</td>\n",
              "      <td>0</td>\n",
              "    </tr>\n",
              "    <tr>\n",
              "      <th>2</th>\n",
              "      <td>60774</td>\n",
              "      <td>Male</td>\n",
              "      <td>1.88</td>\n",
              "      <td>0</td>\n",
              "      <td>0</td>\n",
              "      <td>No</td>\n",
              "      <td>children</td>\n",
              "      <td>Rural</td>\n",
              "      <td>68.35</td>\n",
              "      <td>19.1</td>\n",
              "      <td>Unknown</td>\n",
              "      <td>0</td>\n",
              "    </tr>\n",
              "    <tr>\n",
              "      <th>3</th>\n",
              "      <td>35039</td>\n",
              "      <td>Female</td>\n",
              "      <td>28.00</td>\n",
              "      <td>0</td>\n",
              "      <td>0</td>\n",
              "      <td>No</td>\n",
              "      <td>Private</td>\n",
              "      <td>Rural</td>\n",
              "      <td>99.07</td>\n",
              "      <td>17.6</td>\n",
              "      <td>never smoked</td>\n",
              "      <td>0</td>\n",
              "    </tr>\n",
              "    <tr>\n",
              "      <th>4</th>\n",
              "      <td>46141</td>\n",
              "      <td>Female</td>\n",
              "      <td>24.00</td>\n",
              "      <td>0</td>\n",
              "      <td>0</td>\n",
              "      <td>No</td>\n",
              "      <td>Private</td>\n",
              "      <td>Rural</td>\n",
              "      <td>147.74</td>\n",
              "      <td>21.4</td>\n",
              "      <td>Unknown</td>\n",
              "      <td>0</td>\n",
              "    </tr>\n",
              "  </tbody>\n",
              "</table>\n",
              "</div>"
            ],
            "text/plain": [
              "      id  gender    age  ...   bmi   smoking_status stroke\n",
              "0  67055  Female  31.00  ...  31.3  formerly smoked      0\n",
              "1  51024  Female  24.00  ...  26.1     never smoked      0\n",
              "2  60774    Male   1.88  ...  19.1          Unknown      0\n",
              "3  35039  Female  28.00  ...  17.6     never smoked      0\n",
              "4  46141  Female  24.00  ...  21.4          Unknown      0\n",
              "\n",
              "[5 rows x 12 columns]"
            ]
          },
          "metadata": {
            "tags": []
          },
          "execution_count": 7
        }
      ]
    },
    {
      "cell_type": "markdown",
      "metadata": {
        "id": "rTdg_b3YSAx4"
      },
      "source": [
        "#**🔎 Descriptive overview of Training dataset and Correlation between columns of data.**"
      ]
    },
    {
      "cell_type": "code",
      "metadata": {
        "colab": {
          "base_uri": "https://localhost:8080/",
          "height": 287
        },
        "id": "ywVyCCPZSQI0",
        "outputId": "d20e8687-7685-45bb-8b29-d3c5c14895a1"
      },
      "source": [
        "traindata.describe()"
      ],
      "execution_count": null,
      "outputs": [
        {
          "output_type": "execute_result",
          "data": {
            "text/html": [
              "<div>\n",
              "<style scoped>\n",
              "    .dataframe tbody tr th:only-of-type {\n",
              "        vertical-align: middle;\n",
              "    }\n",
              "\n",
              "    .dataframe tbody tr th {\n",
              "        vertical-align: top;\n",
              "    }\n",
              "\n",
              "    .dataframe thead th {\n",
              "        text-align: right;\n",
              "    }\n",
              "</style>\n",
              "<table border=\"1\" class=\"dataframe\">\n",
              "  <thead>\n",
              "    <tr style=\"text-align: right;\">\n",
              "      <th></th>\n",
              "      <th>id</th>\n",
              "      <th>age</th>\n",
              "      <th>hypertension</th>\n",
              "      <th>heart_disease</th>\n",
              "      <th>avg_glucose_level</th>\n",
              "      <th>bmi</th>\n",
              "      <th>stroke</th>\n",
              "    </tr>\n",
              "  </thead>\n",
              "  <tbody>\n",
              "    <tr>\n",
              "      <th>count</th>\n",
              "      <td>3610.000000</td>\n",
              "      <td>3610.000000</td>\n",
              "      <td>3610.000000</td>\n",
              "      <td>3610.00000</td>\n",
              "      <td>3610.000000</td>\n",
              "      <td>3445.000000</td>\n",
              "      <td>3610.000000</td>\n",
              "    </tr>\n",
              "    <tr>\n",
              "      <th>mean</th>\n",
              "      <td>36205.288643</td>\n",
              "      <td>43.874560</td>\n",
              "      <td>0.106094</td>\n",
              "      <td>0.05928</td>\n",
              "      <td>107.005928</td>\n",
              "      <td>29.023628</td>\n",
              "      <td>0.068975</td>\n",
              "    </tr>\n",
              "    <tr>\n",
              "      <th>std</th>\n",
              "      <td>21211.386080</td>\n",
              "      <td>22.666496</td>\n",
              "      <td>0.308001</td>\n",
              "      <td>0.23618</td>\n",
              "      <td>45.749791</td>\n",
              "      <td>7.922705</td>\n",
              "      <td>0.253447</td>\n",
              "    </tr>\n",
              "    <tr>\n",
              "      <th>min</th>\n",
              "      <td>77.000000</td>\n",
              "      <td>0.080000</td>\n",
              "      <td>0.000000</td>\n",
              "      <td>0.00000</td>\n",
              "      <td>55.220000</td>\n",
              "      <td>10.300000</td>\n",
              "      <td>0.000000</td>\n",
              "    </tr>\n",
              "    <tr>\n",
              "      <th>25%</th>\n",
              "      <td>17315.250000</td>\n",
              "      <td>26.000000</td>\n",
              "      <td>0.000000</td>\n",
              "      <td>0.00000</td>\n",
              "      <td>77.570000</td>\n",
              "      <td>23.600000</td>\n",
              "      <td>0.000000</td>\n",
              "    </tr>\n",
              "    <tr>\n",
              "      <th>50%</th>\n",
              "      <td>36404.000000</td>\n",
              "      <td>46.000000</td>\n",
              "      <td>0.000000</td>\n",
              "      <td>0.00000</td>\n",
              "      <td>92.525000</td>\n",
              "      <td>28.100000</td>\n",
              "      <td>0.000000</td>\n",
              "    </tr>\n",
              "    <tr>\n",
              "      <th>75%</th>\n",
              "      <td>54576.000000</td>\n",
              "      <td>62.000000</td>\n",
              "      <td>0.000000</td>\n",
              "      <td>0.00000</td>\n",
              "      <td>114.835000</td>\n",
              "      <td>33.200000</td>\n",
              "      <td>0.000000</td>\n",
              "    </tr>\n",
              "    <tr>\n",
              "      <th>max</th>\n",
              "      <td>72918.000000</td>\n",
              "      <td>82.000000</td>\n",
              "      <td>1.000000</td>\n",
              "      <td>1.00000</td>\n",
              "      <td>271.740000</td>\n",
              "      <td>97.600000</td>\n",
              "      <td>1.000000</td>\n",
              "    </tr>\n",
              "  </tbody>\n",
              "</table>\n",
              "</div>"
            ],
            "text/plain": [
              "                 id          age  ...          bmi       stroke\n",
              "count   3610.000000  3610.000000  ...  3445.000000  3610.000000\n",
              "mean   36205.288643    43.874560  ...    29.023628     0.068975\n",
              "std    21211.386080    22.666496  ...     7.922705     0.253447\n",
              "min       77.000000     0.080000  ...    10.300000     0.000000\n",
              "25%    17315.250000    26.000000  ...    23.600000     0.000000\n",
              "50%    36404.000000    46.000000  ...    28.100000     0.000000\n",
              "75%    54576.000000    62.000000  ...    33.200000     0.000000\n",
              "max    72918.000000    82.000000  ...    97.600000     1.000000\n",
              "\n",
              "[8 rows x 7 columns]"
            ]
          },
          "metadata": {
            "tags": []
          },
          "execution_count": 8
        }
      ]
    },
    {
      "cell_type": "code",
      "metadata": {
        "id": "jG32JXV6JLXc",
        "colab": {
          "base_uri": "https://localhost:8080/"
        },
        "outputId": "5b913c0c-1442-4647-8208-125a9acf780b"
      },
      "source": [
        "trnmsngval = traindata.isnull().sum()\n",
        "trprcnt = trnmsngval /len(traindata)*100\n",
        "\n",
        "print(\"\\nTraining data heads with number of records with missing data:\\n\\n\", trnmsngval, \n",
        "      \"\\n\\nThe percentage of missing values:\\n\\n\",trprcnt)"
      ],
      "execution_count": null,
      "outputs": [
        {
          "output_type": "stream",
          "text": [
            "\n",
            "Training data heads with number of records with missing data:\n",
            "\n",
            " id                     0\n",
            "gender                 0\n",
            "age                    0\n",
            "hypertension           0\n",
            "heart_disease          0\n",
            "ever_married           0\n",
            "work_type              0\n",
            "Residence_type         0\n",
            "avg_glucose_level      0\n",
            "bmi                  165\n",
            "smoking_status         0\n",
            "stroke                 0\n",
            "dtype: int64 \n",
            "\n",
            "The percentage of missing values:\n",
            "\n",
            " id                   0.000000\n",
            "gender               0.000000\n",
            "age                  0.000000\n",
            "hypertension         0.000000\n",
            "heart_disease        0.000000\n",
            "ever_married         0.000000\n",
            "work_type            0.000000\n",
            "Residence_type       0.000000\n",
            "avg_glucose_level    0.000000\n",
            "bmi                  4.570637\n",
            "smoking_status       0.000000\n",
            "stroke               0.000000\n",
            "dtype: float64\n"
          ],
          "name": "stdout"
        }
      ]
    },
    {
      "cell_type": "code",
      "metadata": {
        "colab": {
          "base_uri": "https://localhost:8080/"
        },
        "id": "ug-bL7CtYcbz",
        "outputId": "b9a16db9-d79a-4407-e0e6-fd1821ebf7a2"
      },
      "source": [
        "tstmsngval = testdata.isnull().sum()\n",
        "prcent = tstmsngval / len(traindata)*100\n",
        "\n",
        "print(\"\\nTesting data heads with number of records with missing data:\\n\\n\", tstmsngval, \"\\n\\nThe percentage of missing values:\\n\\n\",prcent)"
      ],
      "execution_count": null,
      "outputs": [
        {
          "output_type": "stream",
          "text": [
            "\n",
            "Testing data heads with number of records with missing data:\n",
            "\n",
            " id                    0\n",
            "gender                0\n",
            "age                   0\n",
            "hypertension          0\n",
            "heart_disease         0\n",
            "ever_married          0\n",
            "work_type             0\n",
            "Residence_type        0\n",
            "avg_glucose_level     0\n",
            "bmi                  36\n",
            "smoking_status        0\n",
            "stroke                0\n",
            "dtype: int64 \n",
            "\n",
            "The percentage of missing values:\n",
            "\n",
            " id                   0.00000\n",
            "gender               0.00000\n",
            "age                  0.00000\n",
            "hypertension         0.00000\n",
            "heart_disease        0.00000\n",
            "ever_married         0.00000\n",
            "work_type            0.00000\n",
            "Residence_type       0.00000\n",
            "avg_glucose_level    0.00000\n",
            "bmi                  0.99723\n",
            "smoking_status       0.00000\n",
            "stroke               0.00000\n",
            "dtype: float64\n"
          ],
          "name": "stdout"
        }
      ]
    },
    {
      "cell_type": "markdown",
      "metadata": {
        "id": "O02PfX39TIy_"
      },
      "source": [
        "**Missing Value Count:**\\\n",
        "The percentage of misssing values in:\n",
        "\n",
        "- Training dataset is 4.54% with 165 records.\n",
        "- Testing dataset is 0.997% with 36 records.\n"
      ]
    },
    {
      "cell_type": "code",
      "metadata": {
        "colab": {
          "base_uri": "https://localhost:8080/"
        },
        "id": "oenU8HFxaZhH",
        "outputId": "dc9ed7ba-30b8-4be1-a3bd-630b13bd81ee"
      },
      "source": [
        "traindata.fillna(traindata.mean())\n",
        "testdata.fillna(testdata.mean())\n",
        "traindata.info()\n",
        "\n",
        "\n"
      ],
      "execution_count": 134,
      "outputs": [
        {
          "output_type": "stream",
          "text": [
            "<class 'pandas.core.frame.DataFrame'>\n",
            "RangeIndex: 3610 entries, 0 to 3609\n",
            "Data columns (total 12 columns):\n",
            " #   Column             Non-Null Count  Dtype  \n",
            "---  ------             --------------  -----  \n",
            " 0   id                 3610 non-null   int64  \n",
            " 1   gender             3610 non-null   object \n",
            " 2   age                3610 non-null   float64\n",
            " 3   hypertension       3610 non-null   int64  \n",
            " 4   heart_disease      3610 non-null   int64  \n",
            " 5   ever_married       3610 non-null   object \n",
            " 6   work_type          3610 non-null   object \n",
            " 7   Residence_type     3610 non-null   object \n",
            " 8   avg_glucose_level  3610 non-null   float64\n",
            " 9   bmi                3445 non-null   float64\n",
            " 10  smoking_status     3610 non-null   object \n",
            " 11  stroke             3610 non-null   int64  \n",
            "dtypes: float64(3), int64(4), object(5)\n",
            "memory usage: 338.6+ KB\n"
          ],
          "name": "stdout"
        }
      ]
    },
    {
      "cell_type": "code",
      "metadata": {
        "colab": {
          "base_uri": "https://localhost:8080/"
        },
        "id": "fCEsEfpQYcei",
        "outputId": "6897f398-e15f-4fb3-a590-230bf578016f"
      },
      "source": [
        "traindf = traindata.dropna(axis = 0, how = \"any\")\n",
        "testdf = testdata.dropna(axis = 0, how = \"any\")\n",
        "\n",
        "print('TrainData shape: {}'.format(traindf.shape), 'TestData shape: {}'.format(testdf.shape))"
      ],
      "execution_count": 135,
      "outputs": [
        {
          "output_type": "stream",
          "text": [
            "TrainData shape: (3445, 12) TestData shape: (1464, 12)\n"
          ],
          "name": "stdout"
        }
      ]
    },
    {
      "cell_type": "code",
      "metadata": {
        "colab": {
          "base_uri": "https://localhost:8080/"
        },
        "id": "mDeatxoHYchf",
        "outputId": "287531ee-d1ae-4b5c-fe3c-c64ffc90d748"
      },
      "source": [
        "# Looking for unique values in the datasets\n",
        "\n",
        "traindf[\"stroke\"].unique()"
      ],
      "execution_count": null,
      "outputs": [
        {
          "output_type": "execute_result",
          "data": {
            "text/plain": [
              "array([1, 0])"
            ]
          },
          "metadata": {
            "tags": []
          },
          "execution_count": 13
        }
      ]
    },
    {
      "cell_type": "code",
      "metadata": {
        "colab": {
          "base_uri": "https://localhost:8080/"
        },
        "id": "G3KuJR-pYckf",
        "outputId": "a9f796d4-e02a-4cb8-c71c-8b7adea70113"
      },
      "source": [
        "traindf[\"smoking_status\"].unique()"
      ],
      "execution_count": null,
      "outputs": [
        {
          "output_type": "execute_result",
          "data": {
            "text/plain": [
              "array(['formerly smoked', 'never smoked', 'smokes', 'Unknown'],\n",
              "      dtype=object)"
            ]
          },
          "metadata": {
            "tags": []
          },
          "execution_count": 14
        }
      ]
    },
    {
      "cell_type": "code",
      "metadata": {
        "colab": {
          "base_uri": "https://localhost:8080/"
        },
        "id": "IVyWz7FuYcnX",
        "outputId": "5cf5d847-bae0-49e5-80cf-619ca069487d"
      },
      "source": [
        "traindf[\"ever_married\"].unique()"
      ],
      "execution_count": null,
      "outputs": [
        {
          "output_type": "execute_result",
          "data": {
            "text/plain": [
              "array(['Yes', 'No'], dtype=object)"
            ]
          },
          "metadata": {
            "tags": []
          },
          "execution_count": 15
        }
      ]
    },
    {
      "cell_type": "code",
      "metadata": {
        "colab": {
          "base_uri": "https://localhost:8080/"
        },
        "id": "J3hcpD1NYcqT",
        "outputId": "4a0cef8a-3d44-43be-c268-c91277d0c157"
      },
      "source": [
        "# Looking for the patients with Stroke +ve.\n",
        "\n",
        "traindf[\"stroke\"].value_counts()"
      ],
      "execution_count": null,
      "outputs": [
        {
          "output_type": "execute_result",
          "data": {
            "text/plain": [
              "0    3236\n",
              "1     209\n",
              "Name: stroke, dtype: int64"
            ]
          },
          "metadata": {
            "tags": []
          },
          "execution_count": 16
        }
      ]
    },
    {
      "cell_type": "markdown",
      "metadata": {
        "id": "VuPH6i_oCmAS"
      },
      "source": [
        "#**General overview of correlation between categories**"
      ]
    },
    {
      "cell_type": "code",
      "metadata": {
        "colab": {
          "base_uri": "https://localhost:8080/",
          "height": 257
        },
        "id": "FZrOiyYSBtpf",
        "outputId": "6b05ab67-4450-40f3-b027-0da339c2997b"
      },
      "source": [
        "traindf.corr()\n"
      ],
      "execution_count": null,
      "outputs": [
        {
          "output_type": "execute_result",
          "data": {
            "text/html": [
              "<div>\n",
              "<style scoped>\n",
              "    .dataframe tbody tr th:only-of-type {\n",
              "        vertical-align: middle;\n",
              "    }\n",
              "\n",
              "    .dataframe tbody tr th {\n",
              "        vertical-align: top;\n",
              "    }\n",
              "\n",
              "    .dataframe thead th {\n",
              "        text-align: right;\n",
              "    }\n",
              "</style>\n",
              "<table border=\"1\" class=\"dataframe\">\n",
              "  <thead>\n",
              "    <tr style=\"text-align: right;\">\n",
              "      <th></th>\n",
              "      <th>id</th>\n",
              "      <th>age</th>\n",
              "      <th>hypertension</th>\n",
              "      <th>heart_disease</th>\n",
              "      <th>avg_glucose_level</th>\n",
              "      <th>bmi</th>\n",
              "      <th>stroke</th>\n",
              "    </tr>\n",
              "  </thead>\n",
              "  <tbody>\n",
              "    <tr>\n",
              "      <th>id</th>\n",
              "      <td>1.000000</td>\n",
              "      <td>-0.014553</td>\n",
              "      <td>-0.018506</td>\n",
              "      <td>-0.002499</td>\n",
              "      <td>-0.014005</td>\n",
              "      <td>-0.021130</td>\n",
              "      <td>0.009576</td>\n",
              "    </tr>\n",
              "    <tr>\n",
              "      <th>age</th>\n",
              "      <td>-0.014553</td>\n",
              "      <td>1.000000</td>\n",
              "      <td>0.275621</td>\n",
              "      <td>0.267536</td>\n",
              "      <td>0.245671</td>\n",
              "      <td>0.310761</td>\n",
              "      <td>0.273127</td>\n",
              "    </tr>\n",
              "    <tr>\n",
              "      <th>hypertension</th>\n",
              "      <td>-0.018506</td>\n",
              "      <td>0.275621</td>\n",
              "      <td>1.000000</td>\n",
              "      <td>0.111796</td>\n",
              "      <td>0.181567</td>\n",
              "      <td>0.170635</td>\n",
              "      <td>0.158707</td>\n",
              "    </tr>\n",
              "    <tr>\n",
              "      <th>heart_disease</th>\n",
              "      <td>-0.002499</td>\n",
              "      <td>0.267536</td>\n",
              "      <td>0.111796</td>\n",
              "      <td>1.000000</td>\n",
              "      <td>0.173856</td>\n",
              "      <td>0.046181</td>\n",
              "      <td>0.153076</td>\n",
              "    </tr>\n",
              "    <tr>\n",
              "      <th>avg_glucose_level</th>\n",
              "      <td>-0.014005</td>\n",
              "      <td>0.245671</td>\n",
              "      <td>0.181567</td>\n",
              "      <td>0.173856</td>\n",
              "      <td>1.000000</td>\n",
              "      <td>0.173161</td>\n",
              "      <td>0.160402</td>\n",
              "    </tr>\n",
              "    <tr>\n",
              "      <th>bmi</th>\n",
              "      <td>-0.021130</td>\n",
              "      <td>0.310761</td>\n",
              "      <td>0.170635</td>\n",
              "      <td>0.046181</td>\n",
              "      <td>0.173161</td>\n",
              "      <td>1.000000</td>\n",
              "      <td>0.046444</td>\n",
              "    </tr>\n",
              "    <tr>\n",
              "      <th>stroke</th>\n",
              "      <td>0.009576</td>\n",
              "      <td>0.273127</td>\n",
              "      <td>0.158707</td>\n",
              "      <td>0.153076</td>\n",
              "      <td>0.160402</td>\n",
              "      <td>0.046444</td>\n",
              "      <td>1.000000</td>\n",
              "    </tr>\n",
              "  </tbody>\n",
              "</table>\n",
              "</div>"
            ],
            "text/plain": [
              "                         id       age  ...       bmi    stroke\n",
              "id                 1.000000 -0.014553  ... -0.021130  0.009576\n",
              "age               -0.014553  1.000000  ...  0.310761  0.273127\n",
              "hypertension      -0.018506  0.275621  ...  0.170635  0.158707\n",
              "heart_disease     -0.002499  0.267536  ...  0.046181  0.153076\n",
              "avg_glucose_level -0.014005  0.245671  ...  0.173161  0.160402\n",
              "bmi               -0.021130  0.310761  ...  1.000000  0.046444\n",
              "stroke             0.009576  0.273127  ...  0.046444  1.000000\n",
              "\n",
              "[7 rows x 7 columns]"
            ]
          },
          "metadata": {
            "tags": []
          },
          "execution_count": 17
        }
      ]
    },
    {
      "cell_type": "code",
      "metadata": {
        "colab": {
          "base_uri": "https://localhost:8080/",
          "height": 582
        },
        "id": "YqxMAp2wYctm",
        "outputId": "11073935-cc37-4a4f-d795-65b59a2aa2de"
      },
      "source": [
        "plt.figure(figsize = (14,8), dpi = 80)\n",
        "\n",
        "sns.countplot(x = traindf[\"stroke\"])\n",
        "\n",
        "plt.xlabel(\"STROKE\", fontsize = 16, color = \"Blue\")\n",
        "plt.ylabel(\"COUNT\", fontsize = 16, color = \"Blue\") \n",
        "\n",
        "plt.title(\"Training Dataset: No. of Patients with Stroke +ve\", fontsize = 22, color = 'Brown', fontweight = 16)\n",
        "plt.show()"
      ],
      "execution_count": 140,
      "outputs": [
        {
          "output_type": "display_data",
          "data": {
            "image/png": "[encoded data removed]",
            "text/plain": [
              "<Figure size 1120x640 with 1 Axes>"
            ]
          },
          "metadata": {
            "tags": [],
            "needs_background": "light"
          }
        }
      ]
    },
    {
      "cell_type": "code",
      "metadata": {
        "colab": {
          "base_uri": "https://localhost:8080/"
        },
        "id": "LYTMzj6lYczH",
        "outputId": "19c68d47-4921-4400-a37b-cb1535d1ca3b"
      },
      "source": [
        "# Gender count\n",
        "\n",
        "traindf[\"gender\"].value_counts()\n"
      ],
      "execution_count": null,
      "outputs": [
        {
          "output_type": "execute_result",
          "data": {
            "text/plain": [
              "Female    2007\n",
              "Male      1437\n",
              "Other        1\n",
              "Name: gender, dtype: int64"
            ]
          },
          "metadata": {
            "tags": []
          },
          "execution_count": 19
        }
      ]
    },
    {
      "cell_type": "code",
      "metadata": {
        "colab": {
          "base_uri": "https://localhost:8080/"
        },
        "id": "16C31rJJYc1W",
        "outputId": "74fb15f3-6d27-4294-c396-54455a21bec1"
      },
      "source": [
        "# Gender based grouping the Stroke record.\n",
        "\n",
        "traindf.groupby([\"gender\"])[\"stroke\"].value_counts()"
      ],
      "execution_count": null,
      "outputs": [
        {
          "output_type": "execute_result",
          "data": {
            "text/plain": [
              "gender  stroke\n",
              "Female  0         1887\n",
              "        1          120\n",
              "Male    0         1348\n",
              "        1           89\n",
              "Other   0            1\n",
              "Name: stroke, dtype: int64"
            ]
          },
          "metadata": {
            "tags": []
          },
          "execution_count": 20
        }
      ]
    },
    {
      "cell_type": "code",
      "metadata": {
        "colab": {
          "base_uri": "https://localhost:8080/",
          "height": 582
        },
        "id": "47DXHUstYc4X",
        "outputId": "a5989ef2-9539-4cfb-f42b-038c9d6bdf58"
      },
      "source": [
        "plt.figure(figsize = (14,8), dpi = 80)\n",
        "\n",
        "sns.countplot(x = traindf[\"gender\"], hue = traindf[\"stroke\"])\n",
        "\n",
        "plt.xlabel(\"GENDER\", fontsize = 16, color = \"Blue\")\n",
        "plt.ylabel(\"COUNT\", fontsize = 16, color = \"Blue\")\n",
        "\n",
        "plt.title(\"Training Dataset: Gender Based View of Stroke\", fontsize = 22, color = 'Brown', fontweight = 16)\n",
        "plt.show()"
      ],
      "execution_count": 141,
      "outputs": [
        {
          "output_type": "display_data",
          "data": {
            "image/png": "[encoded data removed]",
            "text/plain": [
              "<Figure size 1120x640 with 1 Axes>"
            ]
          },
          "metadata": {
            "tags": [],
            "needs_background": "light"
          }
        }
      ]
    },
    {
      "cell_type": "code",
      "metadata": {
        "colab": {
          "base_uri": "https://localhost:8080/"
        },
        "id": "8sElF2mWYc7Y",
        "outputId": "d1feef61-925f-4d8b-f00d-4af8e27654c6"
      },
      "source": [
        "# Looking for the Stroke data by \"smoking_status\" category.\n",
        "\n",
        "traindf.groupby([\"smoking_status\"])[\"stroke\"].value_counts()"
      ],
      "execution_count": null,
      "outputs": [
        {
          "output_type": "execute_result",
          "data": {
            "text/plain": [
              "smoking_status   stroke\n",
              "Unknown          0         1008\n",
              "                 1           29\n",
              "formerly smoked  0          528\n",
              "                 1           57\n",
              "never smoked     0         1202\n",
              "                 1           84\n",
              "smokes           0          498\n",
              "                 1           39\n",
              "Name: stroke, dtype: int64"
            ]
          },
          "metadata": {
            "tags": []
          },
          "execution_count": 22
        }
      ]
    },
    {
      "cell_type": "code",
      "metadata": {
        "colab": {
          "base_uri": "https://localhost:8080/",
          "height": 582
        },
        "id": "9cSUBD-6ts6N",
        "outputId": "037b6226-0163-4bb6-8d20-aaf64d1f8576"
      },
      "source": [
        "plt.figure(figsize = (14,8), dpi = 80)\n",
        "\n",
        "sns.countplot(x = traindf[\"smoking_status\"], hue = traindf[\"stroke\"])\n",
        "\n",
        "plt.xlabel(\"Smoking Status\", fontsize = 16, color = \"Blue\")\n",
        "plt.ylabel(\"Stroke Count\", fontsize = 16, color = \"Blue\") \n",
        "\n",
        "plt.title(\"An overview of Stroke +ve by Smoking Status\", fontsize = 22, color = 'Brown', fontweight = 16)\n",
        "plt.show()"
      ],
      "execution_count": 144,
      "outputs": [
        {
          "output_type": "display_data",
          "data": {
            "image/png": "[encoded data removed]",
            "text/plain": [
              "<Figure size 1120x640 with 1 Axes>"
            ]
          },
          "metadata": {
            "tags": [],
            "needs_background": "light"
          }
        }
      ]
    },
    {
      "cell_type": "markdown",
      "metadata": {
        "id": "GSTmhU6-O7Sh"
      },
      "source": [
        "##**Filtering Object and Integer data values**"
      ]
    },
    {
      "cell_type": "code",
      "metadata": {
        "id": "2POPwxz0ts9r"
      },
      "source": [
        "strvalutraindf = traindf.select_dtypes(include = ['object'])"
      ],
      "execution_count": null,
      "outputs": []
    },
    {
      "cell_type": "code",
      "metadata": {
        "id": "llmzolwvttDM"
      },
      "source": [
        "strvalutestdf = testdf.select_dtypes(include = ['object'])"
      ],
      "execution_count": null,
      "outputs": []
    },
    {
      "cell_type": "code",
      "metadata": {
        "id": "lbcQgQqbttE_"
      },
      "source": [
        "intvalutraindf = traindf.select_dtypes(include = ['integer', \"float\"])\n",
        "intvalutestdf = testdf.select_dtypes(include = ['integer', \"float\"])"
      ],
      "execution_count": null,
      "outputs": []
    },
    {
      "cell_type": "code",
      "metadata": {
        "id": "jSnjibYYTV80"
      },
      "source": [
        "\n"
      ],
      "execution_count": null,
      "outputs": []
    },
    {
      "cell_type": "markdown",
      "metadata": {
        "id": "7Qlj6uSzTbef"
      },
      "source": [
        "#**Converting Object into integer for ML algo.**"
      ]
    },
    {
      "cell_type": "code",
      "metadata": {
        "id": "_QdBEumUttHY",
        "colab": {
          "base_uri": "https://localhost:8080/",
          "height": 191
        },
        "outputId": "c1a4cb8f-6e2d-4a90-c3db-4a8f4a25b5e9"
      },
      "source": [
        "\n",
        "labels = LabelEncoder()\n",
        "\n",
        "objtoint = strvalutraindf.apply(labels.fit_transform)\n",
        "objtoint = objtoint.join(intvalutraindf)\n",
        "objtoint.head()"
      ],
      "execution_count": 145,
      "outputs": [
        {
          "output_type": "execute_result",
          "data": {
            "text/html": [
              "<div>\n",
              "<style scoped>\n",
              "    .dataframe tbody tr th:only-of-type {\n",
              "        vertical-align: middle;\n",
              "    }\n",
              "\n",
              "    .dataframe tbody tr th {\n",
              "        vertical-align: top;\n",
              "    }\n",
              "\n",
              "    .dataframe thead th {\n",
              "        text-align: right;\n",
              "    }\n",
              "</style>\n",
              "<table border=\"1\" class=\"dataframe\">\n",
              "  <thead>\n",
              "    <tr style=\"text-align: right;\">\n",
              "      <th></th>\n",
              "      <th>gender</th>\n",
              "      <th>ever_married</th>\n",
              "      <th>work_type</th>\n",
              "      <th>Residence_type</th>\n",
              "      <th>smoking_status</th>\n",
              "      <th>id</th>\n",
              "      <th>age</th>\n",
              "      <th>hypertension</th>\n",
              "      <th>heart_disease</th>\n",
              "      <th>avg_glucose_level</th>\n",
              "      <th>bmi</th>\n",
              "      <th>stroke</th>\n",
              "    </tr>\n",
              "  </thead>\n",
              "  <tbody>\n",
              "    <tr>\n",
              "      <th>0</th>\n",
              "      <td>1</td>\n",
              "      <td>1</td>\n",
              "      <td>2</td>\n",
              "      <td>1</td>\n",
              "      <td>1</td>\n",
              "      <td>9046</td>\n",
              "      <td>67.0</td>\n",
              "      <td>0</td>\n",
              "      <td>1</td>\n",
              "      <td>228.69</td>\n",
              "      <td>36.6</td>\n",
              "      <td>1</td>\n",
              "    </tr>\n",
              "    <tr>\n",
              "      <th>2</th>\n",
              "      <td>1</td>\n",
              "      <td>1</td>\n",
              "      <td>2</td>\n",
              "      <td>0</td>\n",
              "      <td>2</td>\n",
              "      <td>31112</td>\n",
              "      <td>80.0</td>\n",
              "      <td>0</td>\n",
              "      <td>1</td>\n",
              "      <td>105.92</td>\n",
              "      <td>32.5</td>\n",
              "      <td>1</td>\n",
              "    </tr>\n",
              "    <tr>\n",
              "      <th>3</th>\n",
              "      <td>0</td>\n",
              "      <td>1</td>\n",
              "      <td>2</td>\n",
              "      <td>1</td>\n",
              "      <td>3</td>\n",
              "      <td>60182</td>\n",
              "      <td>49.0</td>\n",
              "      <td>0</td>\n",
              "      <td>0</td>\n",
              "      <td>171.23</td>\n",
              "      <td>34.4</td>\n",
              "      <td>1</td>\n",
              "    </tr>\n",
              "    <tr>\n",
              "      <th>4</th>\n",
              "      <td>0</td>\n",
              "      <td>1</td>\n",
              "      <td>3</td>\n",
              "      <td>0</td>\n",
              "      <td>2</td>\n",
              "      <td>1665</td>\n",
              "      <td>79.0</td>\n",
              "      <td>1</td>\n",
              "      <td>0</td>\n",
              "      <td>174.12</td>\n",
              "      <td>24.0</td>\n",
              "      <td>1</td>\n",
              "    </tr>\n",
              "    <tr>\n",
              "      <th>5</th>\n",
              "      <td>1</td>\n",
              "      <td>1</td>\n",
              "      <td>2</td>\n",
              "      <td>1</td>\n",
              "      <td>1</td>\n",
              "      <td>56669</td>\n",
              "      <td>81.0</td>\n",
              "      <td>0</td>\n",
              "      <td>0</td>\n",
              "      <td>186.21</td>\n",
              "      <td>29.0</td>\n",
              "      <td>1</td>\n",
              "    </tr>\n",
              "  </tbody>\n",
              "</table>\n",
              "</div>"
            ],
            "text/plain": [
              "   gender  ever_married  work_type  ...  avg_glucose_level   bmi  stroke\n",
              "0       1             1          2  ...             228.69  36.6       1\n",
              "2       1             1          2  ...             105.92  32.5       1\n",
              "3       0             1          2  ...             171.23  34.4       1\n",
              "4       0             1          3  ...             174.12  24.0       1\n",
              "5       1             1          2  ...             186.21  29.0       1\n",
              "\n",
              "[5 rows x 12 columns]"
            ]
          },
          "metadata": {
            "tags": []
          },
          "execution_count": 145
        }
      ]
    },
    {
      "cell_type": "code",
      "metadata": {
        "colab": {
          "base_uri": "https://localhost:8080/",
          "height": 217
        },
        "id": "MNnmIaqOttKN",
        "outputId": "de0367b9-2941-4d10-b825-86c519c127c1"
      },
      "source": [
        "check = strvalutestdf.apply(labels.fit_transform)\n",
        "test = check.join(intvalutestdf)\n",
        "test.head()"
      ],
      "execution_count": null,
      "outputs": [
        {
          "output_type": "execute_result",
          "data": {
            "text/html": [
              "<div>\n",
              "<style scoped>\n",
              "    .dataframe tbody tr th:only-of-type {\n",
              "        vertical-align: middle;\n",
              "    }\n",
              "\n",
              "    .dataframe tbody tr th {\n",
              "        vertical-align: top;\n",
              "    }\n",
              "\n",
              "    .dataframe thead th {\n",
              "        text-align: right;\n",
              "    }\n",
              "</style>\n",
              "<table border=\"1\" class=\"dataframe\">\n",
              "  <thead>\n",
              "    <tr style=\"text-align: right;\">\n",
              "      <th></th>\n",
              "      <th>gender</th>\n",
              "      <th>ever_married</th>\n",
              "      <th>work_type</th>\n",
              "      <th>Residence_type</th>\n",
              "      <th>smoking_status</th>\n",
              "      <th>id</th>\n",
              "      <th>age</th>\n",
              "      <th>hypertension</th>\n",
              "      <th>heart_disease</th>\n",
              "      <th>avg_glucose_level</th>\n",
              "      <th>bmi</th>\n",
              "      <th>stroke</th>\n",
              "    </tr>\n",
              "  </thead>\n",
              "  <tbody>\n",
              "    <tr>\n",
              "      <th>0</th>\n",
              "      <td>0</td>\n",
              "      <td>1</td>\n",
              "      <td>2</td>\n",
              "      <td>0</td>\n",
              "      <td>1</td>\n",
              "      <td>67055</td>\n",
              "      <td>31.00</td>\n",
              "      <td>0</td>\n",
              "      <td>0</td>\n",
              "      <td>77.01</td>\n",
              "      <td>31.3</td>\n",
              "      <td>0</td>\n",
              "    </tr>\n",
              "    <tr>\n",
              "      <th>1</th>\n",
              "      <td>0</td>\n",
              "      <td>1</td>\n",
              "      <td>2</td>\n",
              "      <td>1</td>\n",
              "      <td>2</td>\n",
              "      <td>51024</td>\n",
              "      <td>24.00</td>\n",
              "      <td>0</td>\n",
              "      <td>0</td>\n",
              "      <td>105.26</td>\n",
              "      <td>26.1</td>\n",
              "      <td>0</td>\n",
              "    </tr>\n",
              "    <tr>\n",
              "      <th>2</th>\n",
              "      <td>1</td>\n",
              "      <td>0</td>\n",
              "      <td>4</td>\n",
              "      <td>0</td>\n",
              "      <td>0</td>\n",
              "      <td>60774</td>\n",
              "      <td>1.88</td>\n",
              "      <td>0</td>\n",
              "      <td>0</td>\n",
              "      <td>68.35</td>\n",
              "      <td>19.1</td>\n",
              "      <td>0</td>\n",
              "    </tr>\n",
              "    <tr>\n",
              "      <th>3</th>\n",
              "      <td>0</td>\n",
              "      <td>0</td>\n",
              "      <td>2</td>\n",
              "      <td>0</td>\n",
              "      <td>2</td>\n",
              "      <td>35039</td>\n",
              "      <td>28.00</td>\n",
              "      <td>0</td>\n",
              "      <td>0</td>\n",
              "      <td>99.07</td>\n",
              "      <td>17.6</td>\n",
              "      <td>0</td>\n",
              "    </tr>\n",
              "    <tr>\n",
              "      <th>4</th>\n",
              "      <td>0</td>\n",
              "      <td>0</td>\n",
              "      <td>2</td>\n",
              "      <td>0</td>\n",
              "      <td>0</td>\n",
              "      <td>46141</td>\n",
              "      <td>24.00</td>\n",
              "      <td>0</td>\n",
              "      <td>0</td>\n",
              "      <td>147.74</td>\n",
              "      <td>21.4</td>\n",
              "      <td>0</td>\n",
              "    </tr>\n",
              "  </tbody>\n",
              "</table>\n",
              "</div>"
            ],
            "text/plain": [
              "   gender  ever_married  work_type  ...  avg_glucose_level   bmi  stroke\n",
              "0       0             1          2  ...              77.01  31.3       0\n",
              "1       0             1          2  ...             105.26  26.1       0\n",
              "2       1             0          4  ...              68.35  19.1       0\n",
              "3       0             0          2  ...              99.07  17.6       0\n",
              "4       0             0          2  ...             147.74  21.4       0\n",
              "\n",
              "[5 rows x 12 columns]"
            ]
          },
          "metadata": {
            "tags": []
          },
          "execution_count": 28
        }
      ]
    },
    {
      "cell_type": "code",
      "metadata": {
        "colab": {
          "base_uri": "https://localhost:8080/",
          "height": 217
        },
        "id": "S39PNlBnAMX4",
        "outputId": "fc846bc5-73e1-4630-c461-cc88930b5b47"
      },
      "source": [
        "# Working on Features and Labels \"trnx\" and \"trny\".\n",
        "\n",
        "trnx = objtoint.drop([\"stroke\", \"id\"], axis = 1)\n",
        "trnx.head()"
      ],
      "execution_count": null,
      "outputs": [
        {
          "output_type": "execute_result",
          "data": {
            "text/html": [
              "<div>\n",
              "<style scoped>\n",
              "    .dataframe tbody tr th:only-of-type {\n",
              "        vertical-align: middle;\n",
              "    }\n",
              "\n",
              "    .dataframe tbody tr th {\n",
              "        vertical-align: top;\n",
              "    }\n",
              "\n",
              "    .dataframe thead th {\n",
              "        text-align: right;\n",
              "    }\n",
              "</style>\n",
              "<table border=\"1\" class=\"dataframe\">\n",
              "  <thead>\n",
              "    <tr style=\"text-align: right;\">\n",
              "      <th></th>\n",
              "      <th>gender</th>\n",
              "      <th>ever_married</th>\n",
              "      <th>work_type</th>\n",
              "      <th>Residence_type</th>\n",
              "      <th>smoking_status</th>\n",
              "      <th>age</th>\n",
              "      <th>hypertension</th>\n",
              "      <th>heart_disease</th>\n",
              "      <th>avg_glucose_level</th>\n",
              "      <th>bmi</th>\n",
              "    </tr>\n",
              "  </thead>\n",
              "  <tbody>\n",
              "    <tr>\n",
              "      <th>0</th>\n",
              "      <td>1</td>\n",
              "      <td>1</td>\n",
              "      <td>2</td>\n",
              "      <td>1</td>\n",
              "      <td>1</td>\n",
              "      <td>67.0</td>\n",
              "      <td>0</td>\n",
              "      <td>1</td>\n",
              "      <td>228.69</td>\n",
              "      <td>36.6</td>\n",
              "    </tr>\n",
              "    <tr>\n",
              "      <th>2</th>\n",
              "      <td>1</td>\n",
              "      <td>1</td>\n",
              "      <td>2</td>\n",
              "      <td>0</td>\n",
              "      <td>2</td>\n",
              "      <td>80.0</td>\n",
              "      <td>0</td>\n",
              "      <td>1</td>\n",
              "      <td>105.92</td>\n",
              "      <td>32.5</td>\n",
              "    </tr>\n",
              "    <tr>\n",
              "      <th>3</th>\n",
              "      <td>0</td>\n",
              "      <td>1</td>\n",
              "      <td>2</td>\n",
              "      <td>1</td>\n",
              "      <td>3</td>\n",
              "      <td>49.0</td>\n",
              "      <td>0</td>\n",
              "      <td>0</td>\n",
              "      <td>171.23</td>\n",
              "      <td>34.4</td>\n",
              "    </tr>\n",
              "    <tr>\n",
              "      <th>4</th>\n",
              "      <td>0</td>\n",
              "      <td>1</td>\n",
              "      <td>3</td>\n",
              "      <td>0</td>\n",
              "      <td>2</td>\n",
              "      <td>79.0</td>\n",
              "      <td>1</td>\n",
              "      <td>0</td>\n",
              "      <td>174.12</td>\n",
              "      <td>24.0</td>\n",
              "    </tr>\n",
              "    <tr>\n",
              "      <th>5</th>\n",
              "      <td>1</td>\n",
              "      <td>1</td>\n",
              "      <td>2</td>\n",
              "      <td>1</td>\n",
              "      <td>1</td>\n",
              "      <td>81.0</td>\n",
              "      <td>0</td>\n",
              "      <td>0</td>\n",
              "      <td>186.21</td>\n",
              "      <td>29.0</td>\n",
              "    </tr>\n",
              "  </tbody>\n",
              "</table>\n",
              "</div>"
            ],
            "text/plain": [
              "   gender  ever_married  work_type  ...  heart_disease  avg_glucose_level   bmi\n",
              "0       1             1          2  ...              1             228.69  36.6\n",
              "2       1             1          2  ...              1             105.92  32.5\n",
              "3       0             1          2  ...              0             171.23  34.4\n",
              "4       0             1          3  ...              0             174.12  24.0\n",
              "5       1             1          2  ...              0             186.21  29.0\n",
              "\n",
              "[5 rows x 10 columns]"
            ]
          },
          "metadata": {
            "tags": []
          },
          "execution_count": 29
        }
      ]
    },
    {
      "cell_type": "code",
      "metadata": {
        "id": "61qVsKP7r0Tw"
      },
      "source": [
        ""
      ],
      "execution_count": null,
      "outputs": []
    },
    {
      "cell_type": "code",
      "metadata": {
        "colab": {
          "base_uri": "https://localhost:8080/"
        },
        "id": "RfZupwDVttNi",
        "outputId": "a56cf7f2-83a6-4a5a-f8ad-c4751b381fdd"
      },
      "source": [
        "trny = objtoint[\"stroke\"]\n",
        "trny.head()\n",
        "\n"
      ],
      "execution_count": null,
      "outputs": [
        {
          "output_type": "execute_result",
          "data": {
            "text/plain": [
              "0    1\n",
              "2    1\n",
              "3    1\n",
              "4    1\n",
              "5    1\n",
              "Name: stroke, dtype: int64"
            ]
          },
          "metadata": {
            "tags": []
          },
          "execution_count": 31
        }
      ]
    },
    {
      "cell_type": "markdown",
      "metadata": {
        "id": "TAippT8wDt_N"
      },
      "source": [
        "#**Finding the Correlation in some selective categories**\n",
        "\n",
        "● Find a correlation between Age and Gender ✅\\\n",
        "● Find a correlation between hypertension and Avg Glucose level ✅\\\n",
        "● Find a correlation between Marital status and Smoking status ✅\\\n",
        "● Find if there is any relation between Work Type and Heart Disease. ✅\n"
      ]
    },
    {
      "cell_type": "code",
      "metadata": {
        "colab": {
          "base_uri": "https://localhost:8080/"
        },
        "id": "Ht6dTeC7C5gY",
        "outputId": "e89eb0dd-9342-4570-f63b-3966797e6d4e"
      },
      "source": [
        "coragstrok = objtoint.loc[:,['age', 'stroke']].corr()\n",
        "\n",
        "corhprgluco = objtoint.loc[:,['hypertension', 'avg_glucose_level']].corr()\n",
        "\n",
        "corwrkhrtd = objtoint.loc[:,['work_type', 'heart_disease']].corr()\n",
        "\n",
        "cormrtlsmok = objtoint.loc[:,['ever_married', 'smoking_status']].corr()\n",
        "\n",
        "print(\"🔹Correlation between Age and Stroke data:\\n\\n\",coragstrok,\n",
        "      \"\\n\\n🔹Correlation between Hypertension and Average Glucose Level:\\n\\n\", corhprgluco,\n",
        "      \"\\n\\n🔹Correlation between WorkType and HeartDisease:\\n\\n\", corwrkhrtd,\n",
        "      \"\\n\\n🔹Correlation between Ever Married and Smoking Status:\\n\\n\", cormrtlsmok)"
      ],
      "execution_count": 92,
      "outputs": [
        {
          "output_type": "stream",
          "text": [
            "🔹Correlation between Age and Stroke data:\n",
            "\n",
            "              age    stroke\n",
            "age     1.000000  0.273127\n",
            "stroke  0.273127  1.000000 \n",
            "\n",
            "🔹Correlation between Hypertension and Average Glucose Level:\n",
            "\n",
            "                    hypertension  avg_glucose_level\n",
            "hypertension           1.000000           0.181567\n",
            "avg_glucose_level      0.181567           1.000000 \n",
            "\n",
            "🔹Correlation between WorkType and HeartDisease:\n",
            "\n",
            "                work_type  heart_disease\n",
            "work_type       1.000000      -0.027563\n",
            "heart_disease  -0.027563       1.000000 \n",
            "\n",
            "🔹Correlation between Ever Married and Smoking Status:\n",
            "\n",
            "                 ever_married  smoking_status\n",
            "ever_married        1.000000        0.251263\n",
            "smoking_status      0.251263        1.000000\n"
          ],
          "name": "stdout"
        }
      ]
    },
    {
      "cell_type": "markdown",
      "metadata": {
        "id": "dMQahMuwa9DL"
      },
      "source": [
        "##**Finding Min, Max and Avg for the Avg_Clugose_Level column**"
      ]
    },
    {
      "cell_type": "markdown",
      "metadata": {
        "id": "RuDEibDzd2aq"
      },
      "source": [
        "##**Avg_Glucose_Level : min**"
      ]
    },
    {
      "cell_type": "code",
      "metadata": {
        "colab": {
          "base_uri": "https://localhost:8080/"
        },
        "id": "5OPbu0OVeAC9",
        "outputId": "b75ec27a-b978-4a45-eb9b-5f7a27c65b7c"
      },
      "source": [
        "traindf.loc[traindf['avg_glucose_level'].idxmin()]"
      ],
      "execution_count": null,
      "outputs": [
        {
          "output_type": "execute_result",
          "data": {
            "text/plain": [
              "id                          37404\n",
              "gender                       Male\n",
              "age                            42\n",
              "hypertension                    0\n",
              "heart_disease                   0\n",
              "ever_married                  Yes\n",
              "work_type                 Private\n",
              "Residence_type              Urban\n",
              "avg_glucose_level           55.22\n",
              "bmi                            27\n",
              "smoking_status       never smoked\n",
              "stroke                          0\n",
              "Name: 1191, dtype: object"
            ]
          },
          "metadata": {
            "tags": []
          },
          "execution_count": 38
        }
      ]
    },
    {
      "cell_type": "markdown",
      "metadata": {
        "id": "pVhDKZEGV7vJ"
      },
      "source": [
        "##**Avg_Glucose_Level : max**"
      ]
    },
    {
      "cell_type": "code",
      "metadata": {
        "colab": {
          "base_uri": "https://localhost:8080/"
        },
        "id": "1KXVu54FbLim",
        "outputId": "22fe71cf-177e-47e5-a9f0-4a7f98a7f53d"
      },
      "source": [
        "traindf.loc[traindf['avg_glucose_level'].idxmax()]\n"
      ],
      "execution_count": null,
      "outputs": [
        {
          "output_type": "execute_result",
          "data": {
            "text/plain": [
              "id                     69112\n",
              "gender                  Male\n",
              "age                       68\n",
              "hypertension               1\n",
              "heart_disease              1\n",
              "ever_married             Yes\n",
              "work_type            Private\n",
              "Residence_type         Rural\n",
              "avg_glucose_level     271.74\n",
              "bmi                     31.1\n",
              "smoking_status        smokes\n",
              "stroke                     1\n",
              "Name: 193, dtype: object"
            ]
          },
          "metadata": {
            "tags": []
          },
          "execution_count": 37
        }
      ]
    },
    {
      "cell_type": "markdown",
      "metadata": {
        "id": "K_yHMt15eGz3"
      },
      "source": [
        "##**Avg_Glucose_Level : Avg**"
      ]
    },
    {
      "cell_type": "code",
      "metadata": {
        "id": "1i2OIeGpAvrj"
      },
      "source": [
        ""
      ],
      "execution_count": null,
      "outputs": []
    },
    {
      "cell_type": "code",
      "metadata": {
        "colab": {
          "base_uri": "https://localhost:8080/"
        },
        "id": "WhdHD9oceO0e",
        "outputId": "88a53542-40b6-4304-d6ea-f9eac36a250c"
      },
      "source": [
        "\n",
        "Valcount = traindf['avg_glucose_level'].count()\n",
        "Valsum = traindf['avg_glucose_level'].sum()\n",
        "Valavg = traindf['avg_glucose_level'].sum()/Valcount\n",
        "\n",
        "print(\"Average Glucose Level in Training Dataset:\\n\\n\", \n",
        "      \"Total Value Counts:\\t\\t\", Valcount, \"\\n\\nTotal Sum:\\t\\t\\t\", Valsum, \n",
        "      \"\\n\\nAverage Value of Glucose Level:\\t\", Valavg,)"
      ],
      "execution_count": null,
      "outputs": [
        {
          "output_type": "stream",
          "text": [
            "Average Glucose Level in Training Dataset:\n",
            "\n",
            " Total Value Counts:\t\t 3445 \n",
            "\n",
            "Total Sum:\t\t\t 365808.39 \n",
            "\n",
            "Average Value of Glucose Level:\t 106.18530914368651\n"
          ],
          "name": "stdout"
        }
      ]
    },
    {
      "cell_type": "markdown",
      "metadata": {
        "id": "DhpJXqW-4PuM"
      },
      "source": [
        "#**Spliting the data for Training and Testing.**"
      ]
    },
    {
      "cell_type": "code",
      "metadata": {
        "id": "zc0XJzUPttPs"
      },
      "source": [
        "\n",
        "RANDOM_STATE = 42\n",
        "FIG_SIZE = (10, 7)\n",
        "\n",
        "\n",
        "Xtrain, Xtest, Ytrain, Ytest = train_test_split(trnx, trny, random_state=RANDOM_STATE)"
      ],
      "execution_count": 94,
      "outputs": []
    },
    {
      "cell_type": "code",
      "metadata": {
        "id": "9zlBwZRMttSF",
        "colab": {
          "base_uri": "https://localhost:8080/"
        },
        "outputId": "1aa80a80-b668-4513-d1da-85eb48b05f50"
      },
      "source": [
        "Xtrain.head()\n"
      ],
      "execution_count": 98,
      "outputs": [
        {
          "output_type": "execute_result",
          "data": {
            "text/plain": [
              "<bound method DataFrame.info of       gender  ever_married  work_type  ...  heart_disease  avg_glucose_level   bmi\n",
              "0          1             1          2  ...              1             228.69  36.6\n",
              "2          1             1          2  ...              1             105.92  32.5\n",
              "3          0             1          2  ...              0             171.23  34.4\n",
              "4          0             1          3  ...              0             174.12  24.0\n",
              "5          1             1          2  ...              0             186.21  29.0\n",
              "...      ...           ...        ...  ...            ...                ...   ...\n",
              "3605       0             1          2  ...              1             217.79  26.1\n",
              "3606       1             1          2  ...              0              95.62  29.5\n",
              "3607       1             1          2  ...              0              93.80  23.9\n",
              "3608       1             1          2  ...              1              90.61  25.8\n",
              "3609       0             1          2  ...              0             139.20  36.2\n",
              "\n",
              "[3445 rows x 10 columns]>"
            ]
          },
          "metadata": {
            "tags": []
          },
          "execution_count": 98
        }
      ]
    },
    {
      "cell_type": "markdown",
      "metadata": {
        "id": "JuFyVtluCFPB"
      },
      "source": [
        "#**Learning NaiveBayes Model -- 🤯 --**  "
      ]
    },
    {
      "cell_type": "code",
      "metadata": {
        "id": "qDKp96107jtn",
        "colab": {
          "base_uri": "https://localhost:8080/"
        },
        "outputId": "df4016b0-e638-4542-ce24-498b393d73f0"
      },
      "source": [
        "mdl = GaussianNB()\n",
        "mdl.fit(Xtrain, Ytrain)"
      ],
      "execution_count": 99,
      "outputs": [
        {
          "output_type": "execute_result",
          "data": {
            "text/plain": [
              "GaussianNB(priors=None, var_smoothing=1e-09)"
            ]
          },
          "metadata": {
            "tags": []
          },
          "execution_count": 99
        }
      ]
    },
    {
      "cell_type": "markdown",
      "metadata": {
        "id": "hzSqwl734y3R"
      },
      "source": [
        "##**Predict**"
      ]
    },
    {
      "cell_type": "code",
      "metadata": {
        "id": "m_uL0-LC7jw-",
        "colab": {
          "base_uri": "https://localhost:8080/"
        },
        "outputId": "b67d4504-d8a9-4615-b8e5-44c840548c8d"
      },
      "source": [
        "\n",
        "\n",
        "predXtest = mdl.predict(Xtest)\n",
        "predXtest"
      ],
      "execution_count": 100,
      "outputs": [
        {
          "output_type": "execute_result",
          "data": {
            "text/plain": [
              "array([0, 0, 0, 0, 1, 0, 1, 0, 0, 0, 0, 0, 0, 0, 0, 0, 0, 0, 0, 0, 0, 0,\n",
              "       0, 0, 0, 0, 1, 0, 0, 0, 0, 0, 1, 0, 0, 0, 0, 0, 0, 1, 0, 0, 0, 0,\n",
              "       0, 0, 0, 0, 0, 1, 0, 0, 0, 0, 1, 1, 1, 0, 0, 1, 1, 1, 1, 0, 0, 1,\n",
              "       0, 0, 0, 0, 1, 0, 0, 1, 0, 0, 0, 0, 0, 1, 0, 0, 0, 0, 0, 1, 1, 0,\n",
              "       1, 0, 0, 0, 0, 0, 1, 0, 0, 1, 1, 0, 0, 1, 1, 0, 0, 0, 0, 0, 0, 0,\n",
              "       0, 0, 0, 0, 0, 1, 0, 0, 1, 0, 0, 0, 0, 0, 0, 0, 0, 0, 0, 0, 0, 1,\n",
              "       1, 0, 0, 0, 0, 0, 0, 0, 0, 0, 0, 1, 0, 0, 0, 0, 0, 0, 0, 0, 0, 0,\n",
              "       0, 0, 0, 0, 0, 0, 0, 0, 1, 0, 0, 1, 0, 0, 0, 0, 1, 0, 0, 0, 1, 0,\n",
              "       0, 0, 1, 0, 1, 0, 1, 0, 0, 0, 0, 0, 1, 0, 0, 1, 0, 0, 0, 0, 0, 0,\n",
              "       0, 1, 0, 0, 1, 0, 0, 0, 0, 1, 0, 0, 0, 0, 0, 0, 0, 0, 0, 0, 0, 0,\n",
              "       0, 0, 0, 0, 0, 0, 0, 0, 0, 1, 1, 1, 0, 1, 0, 0, 0, 0, 1, 1, 0, 0,\n",
              "       0, 0, 0, 1, 0, 0, 0, 0, 0, 0, 0, 0, 0, 0, 0, 0, 0, 0, 0, 0, 0, 0,\n",
              "       1, 1, 0, 0, 0, 0, 0, 0, 0, 1, 0, 0, 0, 0, 0, 0, 1, 0, 0, 0, 0, 0,\n",
              "       1, 0, 0, 0, 0, 0, 0, 0, 1, 0, 0, 0, 0, 0, 0, 0, 0, 1, 0, 0, 0, 0,\n",
              "       0, 0, 1, 1, 0, 0, 0, 1, 0, 1, 0, 0, 1, 1, 0, 0, 0, 0, 0, 0, 1, 0,\n",
              "       0, 0, 0, 0, 0, 1, 0, 0, 0, 0, 0, 0, 0, 1, 0, 0, 0, 0, 0, 0, 0, 0,\n",
              "       0, 0, 0, 0, 0, 0, 0, 0, 1, 0, 1, 1, 0, 0, 0, 0, 0, 0, 0, 0, 0, 0,\n",
              "       1, 0, 0, 0, 1, 0, 0, 0, 0, 1, 0, 0, 0, 1, 0, 1, 0, 0, 0, 0, 1, 1,\n",
              "       0, 0, 0, 0, 0, 1, 0, 0, 0, 0, 0, 0, 0, 0, 1, 0, 0, 0, 0, 1, 0, 0,\n",
              "       0, 0, 0, 1, 0, 0, 0, 0, 1, 0, 0, 0, 1, 0, 0, 0, 0, 0, 0, 0, 0, 1,\n",
              "       0, 0, 0, 0, 0, 0, 0, 0, 0, 0, 0, 0, 1, 0, 0, 0, 0, 0, 0, 1, 0, 0,\n",
              "       1, 1, 0, 0, 0, 0, 0, 0, 0, 0, 0, 1, 0, 0, 0, 1, 1, 0, 1, 0, 0, 1,\n",
              "       0, 0, 0, 0, 0, 0, 0, 0, 0, 0, 0, 0, 0, 0, 0, 0, 0, 0, 1, 0, 1, 0,\n",
              "       1, 1, 0, 0, 0, 0, 0, 0, 0, 0, 0, 0, 0, 0, 0, 0, 0, 0, 0, 0, 0, 0,\n",
              "       0, 1, 0, 0, 0, 0, 0, 0, 0, 1, 0, 0, 0, 0, 0, 0, 1, 0, 0, 0, 0, 0,\n",
              "       0, 0, 0, 1, 0, 0, 0, 0, 0, 0, 0, 0, 0, 0, 0, 0, 0, 0, 0, 0, 0, 0,\n",
              "       0, 0, 0, 0, 0, 0, 0, 1, 0, 0, 0, 0, 0, 0, 0, 1, 0, 0, 0, 0, 0, 1,\n",
              "       0, 0, 1, 0, 1, 0, 0, 0, 0, 0, 0, 0, 0, 0, 0, 0, 0, 0, 1, 0, 0, 0,\n",
              "       0, 0, 1, 0, 0, 0, 0, 0, 0, 1, 0, 0, 0, 0, 1, 0, 0, 1, 0, 0, 0, 0,\n",
              "       1, 0, 0, 0, 0, 0, 0, 0, 0, 1, 0, 0, 0, 0, 0, 0, 0, 0, 0, 0, 0, 0,\n",
              "       0, 0, 0, 0, 0, 0, 0, 0, 0, 0, 0, 0, 1, 0, 0, 1, 0, 0, 0, 0, 0, 1,\n",
              "       0, 0, 0, 0, 0, 1, 0, 0, 1, 0, 0, 0, 0, 0, 0, 0, 0, 1, 0, 0, 0, 0,\n",
              "       0, 0, 1, 0, 0, 0, 0, 0, 0, 0, 0, 0, 0, 0, 0, 0, 0, 0, 0, 0, 0, 0,\n",
              "       0, 1, 0, 0, 0, 0, 0, 0, 0, 0, 0, 0, 1, 0, 0, 0, 0, 1, 1, 0, 0, 0,\n",
              "       0, 0, 1, 0, 0, 0, 1, 0, 0, 0, 1, 0, 0, 0, 0, 0, 1, 1, 0, 0, 0, 0,\n",
              "       1, 0, 0, 0, 0, 0, 0, 0, 0, 0, 0, 1, 1, 1, 0, 0, 0, 0, 0, 0, 0, 0,\n",
              "       0, 0, 0, 0, 0, 0, 0, 1, 0, 1, 1, 0, 0, 0, 0, 0, 0, 0, 0, 0, 0, 0,\n",
              "       0, 1, 0, 0, 1, 0, 0, 0, 0, 0, 1, 0, 0, 0, 0, 0, 1, 0, 0, 0, 0, 0,\n",
              "       0, 0, 1, 1, 0, 0, 0, 1, 1, 0, 0, 0, 0, 0, 0, 1, 0, 0, 0, 0, 0, 0,\n",
              "       0, 0, 0, 0])"
            ]
          },
          "metadata": {
            "tags": []
          },
          "execution_count": 100
        }
      ]
    },
    {
      "cell_type": "markdown",
      "metadata": {
        "id": "GptRmV4L5BXT"
      },
      "source": [
        "##**Accuracy Scores with NaiveBayes Model.**\n",
        "##Test"
      ]
    },
    {
      "cell_type": "code",
      "metadata": {
        "id": "hRMGRN1M7j0G",
        "colab": {
          "base_uri": "https://localhost:8080/"
        },
        "outputId": "35fe50d6-a225-4db4-c7f2-92a81352e00c"
      },
      "source": [
        "\n",
        "testscore = mdl.score(Xtest, Ytest)\n",
        "print(\"The NaiveBayes' Model TestScore: \", testscore)"
      ],
      "execution_count": 101,
      "outputs": [
        {
          "output_type": "stream",
          "text": [
            "The NaiveBayes' Model TestScore:  0.8306264501160093\n"
          ],
          "name": "stdout"
        }
      ]
    },
    {
      "cell_type": "markdown",
      "metadata": {
        "id": "oIol3ozZ6kLQ"
      },
      "source": [
        "##Train"
      ]
    },
    {
      "cell_type": "code",
      "metadata": {
        "id": "c3Kd_uMS7j7J",
        "colab": {
          "base_uri": "https://localhost:8080/"
        },
        "outputId": "f076e5db-07f6-4871-8a35-90725cede409"
      },
      "source": [
        "trainscore = mdl.score(Xtrain, Ytrain)\n",
        "print(\"The NaiveBayes' Model TrainScore: \", trainscore)"
      ],
      "execution_count": 102,
      "outputs": [
        {
          "output_type": "stream",
          "text": [
            "The NaiveBayes' Model TrainScore:  0.8559814169570267\n"
          ],
          "name": "stdout"
        }
      ]
    },
    {
      "cell_type": "markdown",
      "metadata": {
        "id": "xWCy_-pcJIQp"
      },
      "source": [
        "#**Measuring Model Performance by Cross-validation** *( CV )*\n",
        "**- sklearn.model_selection -- cross_validate**"
      ]
    },
    {
      "cell_type": "code",
      "metadata": {
        "id": "jkdBd1bEKKrP",
        "colab": {
          "base_uri": "https://localhost:8080/"
        },
        "outputId": "617e8247-b66d-45c2-c8e3-e8434fc72821"
      },
      "source": [
        "xvalscores = cross_validate(mdl, trnx, trny, cv=9, return_estimator=True)\n",
        "sorted(xvalscores.keys())\n",
        "xvalscores"
      ],
      "execution_count": 103,
      "outputs": [
        {
          "output_type": "execute_result",
          "data": {
            "text/plain": [
              "{'estimator': (GaussianNB(priors=None, var_smoothing=1e-09),\n",
              "  GaussianNB(priors=None, var_smoothing=1e-09),\n",
              "  GaussianNB(priors=None, var_smoothing=1e-09),\n",
              "  GaussianNB(priors=None, var_smoothing=1e-09),\n",
              "  GaussianNB(priors=None, var_smoothing=1e-09),\n",
              "  GaussianNB(priors=None, var_smoothing=1e-09),\n",
              "  GaussianNB(priors=None, var_smoothing=1e-09),\n",
              "  GaussianNB(priors=None, var_smoothing=1e-09),\n",
              "  GaussianNB(priors=None, var_smoothing=1e-09)),\n",
              " 'fit_time': array([0.00956964, 0.00900507, 0.00415707, 0.0030582 , 0.00294089,\n",
              "        0.00269055, 0.00270653, 0.00257254, 0.0027566 ]),\n",
              " 'score_time': array([0.00193334, 0.00486088, 0.0017333 , 0.00131845, 0.00120234,\n",
              "        0.0011909 , 0.00114274, 0.0011723 , 0.00118232]),\n",
              " 'test_score': array([0.85117493, 0.86422977, 0.8537859 , 0.85900783, 0.85900783,\n",
              "        0.85639687, 0.8616188 , 0.83246073, 0.85078534])}"
            ]
          },
          "metadata": {
            "tags": []
          },
          "execution_count": 103
        }
      ]
    },
    {
      "cell_type": "markdown",
      "metadata": {
        "id": "Tv18_cvmSmN6"
      },
      "source": [
        "##**Using NB's Confusion Matrix**"
      ]
    },
    {
      "cell_type": "code",
      "metadata": {
        "id": "MDfEY-Q5KOAa",
        "colab": {
          "base_uri": "https://localhost:8080/",
          "height": 137
        },
        "outputId": "a7f100df-0ea8-4498-829c-91f73b52eb4e"
      },
      "source": [
        "NBconfmtrx = pd.crosstab(Ytest, predXtest)\n",
        "NBconfmtrx"
      ],
      "execution_count": 104,
      "outputs": [
        {
          "output_type": "execute_result",
          "data": {
            "text/html": [
              "<div>\n",
              "<style scoped>\n",
              "    .dataframe tbody tr th:only-of-type {\n",
              "        vertical-align: middle;\n",
              "    }\n",
              "\n",
              "    .dataframe tbody tr th {\n",
              "        vertical-align: top;\n",
              "    }\n",
              "\n",
              "    .dataframe thead th {\n",
              "        text-align: right;\n",
              "    }\n",
              "</style>\n",
              "<table border=\"1\" class=\"dataframe\">\n",
              "  <thead>\n",
              "    <tr style=\"text-align: right;\">\n",
              "      <th>col_0</th>\n",
              "      <th>0</th>\n",
              "      <th>1</th>\n",
              "    </tr>\n",
              "    <tr>\n",
              "      <th>stroke</th>\n",
              "      <th></th>\n",
              "      <th></th>\n",
              "    </tr>\n",
              "  </thead>\n",
              "  <tbody>\n",
              "    <tr>\n",
              "      <th>0</th>\n",
              "      <td>685</td>\n",
              "      <td>112</td>\n",
              "    </tr>\n",
              "    <tr>\n",
              "      <th>1</th>\n",
              "      <td>34</td>\n",
              "      <td>31</td>\n",
              "    </tr>\n",
              "  </tbody>\n",
              "</table>\n",
              "</div>"
            ],
            "text/plain": [
              "col_0     0    1\n",
              "stroke          \n",
              "0       685  112\n",
              "1        34   31"
            ]
          },
          "metadata": {
            "tags": []
          },
          "execution_count": 104
        }
      ]
    },
    {
      "cell_type": "markdown",
      "metadata": {
        "id": "R-ge7S1xUr1B"
      },
      "source": [
        "#**Principle Component Analysis (PCA)**\\\n",
        "While many algorithms (such as SVM, K-nearest neighbors, and logistic regression) require features to be normalized, intuitively we can think of *Principle Component Analysis (PCA)* as being a prime example of when normalization is important. \n",
        "\n",
        "In PCA we look for the components that maximize the variance. If one component (e.g. human height) varies less than another (e.g. weight) because of their respective scales (meters vs. kilos), PCA might determine that the direction of maximal variance more closely corresponds with the ‘weight’ axis, if those features are not scaled. As a change in height of one meter can be considered much more important than the change in weight of one kilogram, this is clearly incorrect.\n",
        "\n",
        "**To illustrate this,** PCA is performed comparing the use of data with **StandardScaler** applied, to unscaled data. The results are visualized and a clear difference noted. \n",
        "\n",
        "The 1st principal component in the **unscaled** set can be seen. It can be seen that feature #13 dominates the direction, being a whole two orders of magnitude above the other features.\n",
        "\n",
        "This is contrasted when observing the principal component for the scaled version of the data.\n",
        "\n",
        "**In the scaled version,** the orders of magnitude are roughly the same across all the features."
      ]
    },
    {
      "cell_type": "code",
      "metadata": {
        "id": "iuONyRMcKOEh",
        "colab": {
          "base_uri": "https://localhost:8080/",
          "height": 197
        },
        "outputId": "7f577afa-84c4-41e4-eb5a-4b4e986a18e7"
      },
      "source": [
        "from sklearn.pipeline import make_pipeline\n",
        "from sklearn.preprocessing import StandardScaler\n",
        "from sklearn.decomposition import PCA\n",
        "from sklearn import metrics\n",
        "\n",
        "RANDOM_STATE = 42\n",
        "FIG_SIZE = (10, 7)\n",
        "\n",
        "# Make a train/test split\n",
        "Xtrain, Xtest, Ytrain, Ytest = train_test_split(trnx, trny, random_state=RANDOM_STATE)\n",
        "Xtrain.head()\n"
      ],
      "execution_count": 105,
      "outputs": [
        {
          "output_type": "execute_result",
          "data": {
            "text/html": [
              "<div>\n",
              "<style scoped>\n",
              "    .dataframe tbody tr th:only-of-type {\n",
              "        vertical-align: middle;\n",
              "    }\n",
              "\n",
              "    .dataframe tbody tr th {\n",
              "        vertical-align: top;\n",
              "    }\n",
              "\n",
              "    .dataframe thead th {\n",
              "        text-align: right;\n",
              "    }\n",
              "</style>\n",
              "<table border=\"1\" class=\"dataframe\">\n",
              "  <thead>\n",
              "    <tr style=\"text-align: right;\">\n",
              "      <th></th>\n",
              "      <th>gender</th>\n",
              "      <th>ever_married</th>\n",
              "      <th>work_type</th>\n",
              "      <th>Residence_type</th>\n",
              "      <th>smoking_status</th>\n",
              "      <th>age</th>\n",
              "      <th>hypertension</th>\n",
              "      <th>heart_disease</th>\n",
              "      <th>avg_glucose_level</th>\n",
              "      <th>bmi</th>\n",
              "    </tr>\n",
              "  </thead>\n",
              "  <tbody>\n",
              "    <tr>\n",
              "      <th>2951</th>\n",
              "      <td>0</td>\n",
              "      <td>0</td>\n",
              "      <td>2</td>\n",
              "      <td>1</td>\n",
              "      <td>1</td>\n",
              "      <td>23.0</td>\n",
              "      <td>0</td>\n",
              "      <td>0</td>\n",
              "      <td>105.28</td>\n",
              "      <td>27.1</td>\n",
              "    </tr>\n",
              "    <tr>\n",
              "      <th>3181</th>\n",
              "      <td>1</td>\n",
              "      <td>1</td>\n",
              "      <td>2</td>\n",
              "      <td>1</td>\n",
              "      <td>2</td>\n",
              "      <td>38.0</td>\n",
              "      <td>0</td>\n",
              "      <td>0</td>\n",
              "      <td>86.93</td>\n",
              "      <td>31.1</td>\n",
              "    </tr>\n",
              "    <tr>\n",
              "      <th>1581</th>\n",
              "      <td>0</td>\n",
              "      <td>1</td>\n",
              "      <td>2</td>\n",
              "      <td>0</td>\n",
              "      <td>2</td>\n",
              "      <td>44.0</td>\n",
              "      <td>0</td>\n",
              "      <td>0</td>\n",
              "      <td>70.58</td>\n",
              "      <td>25.1</td>\n",
              "    </tr>\n",
              "    <tr>\n",
              "      <th>2841</th>\n",
              "      <td>0</td>\n",
              "      <td>0</td>\n",
              "      <td>2</td>\n",
              "      <td>0</td>\n",
              "      <td>1</td>\n",
              "      <td>33.0</td>\n",
              "      <td>0</td>\n",
              "      <td>0</td>\n",
              "      <td>106.08</td>\n",
              "      <td>32.5</td>\n",
              "    </tr>\n",
              "    <tr>\n",
              "      <th>3084</th>\n",
              "      <td>1</td>\n",
              "      <td>0</td>\n",
              "      <td>2</td>\n",
              "      <td>0</td>\n",
              "      <td>0</td>\n",
              "      <td>30.0</td>\n",
              "      <td>0</td>\n",
              "      <td>0</td>\n",
              "      <td>61.87</td>\n",
              "      <td>23.9</td>\n",
              "    </tr>\n",
              "  </tbody>\n",
              "</table>\n",
              "</div>"
            ],
            "text/plain": [
              "      gender  ever_married  work_type  ...  heart_disease  avg_glucose_level   bmi\n",
              "2951       0             0          2  ...              0             105.28  27.1\n",
              "3181       1             1          2  ...              0              86.93  31.1\n",
              "1581       0             1          2  ...              0              70.58  25.1\n",
              "2841       0             0          2  ...              0             106.08  32.5\n",
              "3084       1             0          2  ...              0              61.87  23.9\n",
              "\n",
              "[5 rows x 10 columns]"
            ]
          },
          "metadata": {
            "tags": []
          },
          "execution_count": 105
        }
      ]
    },
    {
      "cell_type": "markdown",
      "metadata": {
        "id": "uOgpO-Kj-bAu"
      },
      "source": [
        "##**Fit to data and predict using Pipelined GausianNB and PCA.**\n",
        "\n",
        "#Unscaled classification"
      ]
    },
    {
      "cell_type": "code",
      "metadata": {
        "id": "db_I6a-1XPly",
        "colab": {
          "base_uri": "https://localhost:8080/"
        },
        "outputId": "88fefcb4-0afc-4932-f90d-288c479dfc4f"
      },
      "source": [
        "\n",
        "unscaled_clf = make_pipeline(PCA(n_components=2), GaussianNB())\n",
        "unscaled_clf.fit(Xtrain, Ytrain)\n",
        "pred_test = unscaled_clf.predict(Xtest)\n",
        "pred_test\n"
      ],
      "execution_count": 106,
      "outputs": [
        {
          "output_type": "execute_result",
          "data": {
            "text/plain": [
              "array([0, 0, 0, 0, 0, 0, 0, 0, 0, 0, 0, 0, 0, 0, 0, 0, 0, 0, 0, 0, 0, 0,\n",
              "       0, 0, 0, 0, 0, 0, 0, 0, 0, 0, 0, 0, 0, 0, 0, 0, 0, 0, 0, 0, 0, 0,\n",
              "       0, 0, 0, 0, 0, 0, 0, 0, 0, 0, 0, 0, 0, 0, 0, 0, 0, 1, 1, 0, 0, 0,\n",
              "       0, 0, 0, 0, 0, 0, 0, 1, 0, 0, 0, 0, 0, 0, 0, 0, 0, 0, 0, 0, 0, 0,\n",
              "       0, 0, 0, 0, 0, 0, 0, 0, 0, 0, 0, 0, 0, 0, 0, 0, 0, 0, 0, 0, 0, 0,\n",
              "       0, 0, 0, 0, 0, 1, 0, 0, 0, 0, 0, 0, 0, 0, 0, 0, 0, 0, 0, 0, 0, 0,\n",
              "       1, 0, 0, 0, 0, 0, 0, 0, 0, 0, 0, 0, 0, 0, 0, 0, 0, 0, 0, 0, 0, 0,\n",
              "       0, 0, 0, 0, 0, 0, 0, 0, 0, 0, 0, 0, 0, 0, 0, 0, 0, 0, 0, 0, 0, 0,\n",
              "       0, 0, 0, 0, 0, 0, 0, 0, 0, 0, 0, 0, 0, 0, 0, 0, 0, 0, 0, 0, 0, 0,\n",
              "       0, 0, 0, 0, 0, 0, 0, 0, 0, 0, 0, 0, 0, 0, 0, 0, 0, 0, 0, 0, 0, 0,\n",
              "       0, 0, 0, 0, 0, 0, 0, 0, 0, 0, 0, 0, 0, 0, 0, 0, 0, 0, 0, 1, 0, 0,\n",
              "       0, 0, 0, 0, 0, 0, 0, 0, 0, 0, 0, 0, 0, 0, 0, 0, 0, 0, 0, 0, 0, 0,\n",
              "       0, 0, 0, 0, 0, 0, 0, 0, 0, 0, 0, 0, 0, 0, 0, 0, 0, 0, 0, 0, 0, 0,\n",
              "       0, 0, 0, 0, 0, 0, 0, 0, 0, 0, 0, 0, 0, 0, 0, 0, 0, 0, 0, 0, 0, 0,\n",
              "       0, 0, 0, 0, 0, 0, 0, 1, 0, 1, 0, 0, 0, 1, 0, 0, 0, 0, 0, 0, 1, 0,\n",
              "       0, 0, 0, 0, 0, 1, 0, 0, 0, 0, 0, 0, 0, 0, 0, 0, 0, 0, 0, 0, 0, 0,\n",
              "       0, 0, 0, 0, 0, 0, 0, 0, 0, 0, 1, 1, 0, 0, 0, 0, 0, 0, 0, 0, 0, 0,\n",
              "       0, 0, 0, 0, 0, 0, 0, 0, 0, 0, 0, 0, 0, 0, 0, 0, 0, 0, 0, 0, 1, 1,\n",
              "       0, 0, 0, 0, 0, 0, 0, 0, 0, 0, 0, 0, 0, 0, 0, 0, 0, 0, 0, 0, 0, 0,\n",
              "       0, 0, 0, 1, 0, 0, 0, 0, 0, 0, 0, 0, 0, 0, 0, 0, 0, 0, 0, 0, 0, 0,\n",
              "       0, 0, 0, 0, 0, 0, 0, 0, 0, 0, 0, 0, 1, 0, 0, 0, 0, 0, 0, 0, 0, 0,\n",
              "       0, 0, 0, 0, 0, 0, 0, 0, 0, 0, 0, 0, 0, 0, 0, 0, 0, 0, 0, 0, 0, 0,\n",
              "       0, 0, 0, 0, 0, 0, 0, 0, 0, 0, 0, 0, 0, 0, 0, 0, 0, 1, 0, 0, 0, 0,\n",
              "       0, 0, 0, 0, 0, 0, 0, 0, 0, 0, 0, 0, 0, 0, 0, 0, 0, 0, 0, 0, 0, 0,\n",
              "       0, 0, 0, 0, 0, 0, 0, 0, 0, 1, 0, 0, 0, 0, 0, 0, 0, 0, 0, 0, 0, 0,\n",
              "       0, 0, 0, 0, 0, 0, 0, 0, 0, 0, 0, 0, 0, 0, 0, 0, 0, 0, 0, 0, 0, 0,\n",
              "       0, 0, 0, 0, 0, 0, 0, 1, 0, 0, 0, 0, 0, 0, 0, 0, 0, 0, 0, 0, 0, 1,\n",
              "       0, 0, 0, 0, 0, 0, 0, 0, 0, 0, 0, 0, 0, 0, 0, 0, 0, 0, 0, 0, 0, 0,\n",
              "       0, 0, 0, 0, 0, 0, 0, 0, 0, 0, 0, 0, 0, 0, 0, 0, 0, 0, 0, 0, 0, 0,\n",
              "       0, 0, 0, 0, 0, 0, 0, 0, 0, 1, 0, 0, 0, 0, 0, 0, 0, 0, 0, 0, 0, 0,\n",
              "       0, 0, 0, 0, 0, 0, 0, 0, 0, 0, 0, 0, 0, 0, 0, 0, 0, 0, 0, 0, 0, 1,\n",
              "       0, 0, 0, 0, 0, 1, 0, 0, 0, 0, 0, 0, 0, 0, 0, 0, 0, 0, 0, 0, 0, 0,\n",
              "       0, 0, 1, 0, 0, 0, 0, 0, 0, 0, 0, 0, 0, 0, 0, 0, 0, 0, 0, 0, 0, 0,\n",
              "       0, 0, 0, 0, 0, 0, 0, 0, 0, 0, 0, 0, 0, 0, 0, 0, 0, 0, 0, 0, 0, 0,\n",
              "       0, 0, 0, 0, 0, 0, 0, 0, 0, 0, 0, 0, 0, 0, 0, 0, 0, 0, 0, 0, 0, 0,\n",
              "       0, 0, 0, 0, 0, 0, 0, 0, 0, 0, 0, 0, 0, 1, 0, 0, 0, 0, 0, 0, 0, 0,\n",
              "       0, 0, 0, 0, 0, 0, 0, 1, 0, 0, 0, 0, 0, 0, 0, 0, 0, 0, 0, 0, 0, 0,\n",
              "       0, 0, 0, 0, 0, 0, 0, 0, 1, 0, 0, 0, 0, 0, 0, 0, 0, 0, 0, 0, 0, 0,\n",
              "       0, 0, 0, 0, 0, 0, 0, 0, 0, 0, 0, 0, 0, 0, 0, 0, 0, 0, 0, 0, 0, 0,\n",
              "       0, 0, 0, 0])"
            ]
          },
          "metadata": {
            "tags": []
          },
          "execution_count": 106
        }
      ]
    },
    {
      "cell_type": "markdown",
      "metadata": {
        "id": "J4GDb2tvAAxc"
      },
      "source": [
        "##StantardScaler Applied"
      ]
    },
    {
      "cell_type": "code",
      "metadata": {
        "id": "WK17CLLgKOHv",
        "colab": {
          "base_uri": "https://localhost:8080/"
        },
        "outputId": "656043d1-b4c3-4a65-c0ab-f71314015c8d"
      },
      "source": [
        "\n",
        "std_clf = make_pipeline(StandardScaler(), PCA(n_components=2), GaussianNB())\n",
        "std_clf.fit(Xtrain, Ytrain)\n",
        "pred_test_std = std_clf.predict(Xtest)\n",
        "\n",
        "pred_test_std"
      ],
      "execution_count": 107,
      "outputs": [
        {
          "output_type": "execute_result",
          "data": {
            "text/plain": [
              "array([0, 0, 0, 0, 0, 0, 0, 0, 0, 0, 0, 0, 0, 0, 0, 0, 0, 0, 0, 0, 0, 0,\n",
              "       0, 0, 0, 0, 0, 0, 0, 0, 0, 0, 0, 0, 0, 0, 0, 0, 0, 0, 0, 0, 0, 0,\n",
              "       0, 0, 0, 0, 0, 0, 0, 0, 0, 0, 0, 0, 0, 0, 0, 0, 0, 0, 0, 0, 0, 0,\n",
              "       0, 0, 0, 0, 0, 0, 0, 0, 0, 0, 0, 0, 0, 1, 0, 0, 0, 0, 0, 0, 0, 0,\n",
              "       0, 0, 0, 0, 0, 0, 0, 0, 0, 0, 0, 0, 0, 0, 0, 0, 0, 0, 0, 0, 0, 0,\n",
              "       0, 0, 0, 0, 0, 1, 0, 0, 0, 0, 0, 0, 0, 0, 0, 0, 0, 0, 0, 0, 0, 0,\n",
              "       0, 0, 0, 0, 0, 0, 0, 0, 0, 0, 0, 0, 0, 0, 0, 0, 0, 0, 0, 0, 0, 0,\n",
              "       0, 0, 0, 0, 0, 0, 0, 0, 0, 0, 0, 0, 0, 0, 0, 0, 0, 0, 0, 0, 0, 0,\n",
              "       0, 0, 0, 0, 1, 0, 0, 0, 0, 0, 0, 0, 1, 0, 0, 0, 0, 0, 0, 0, 0, 0,\n",
              "       0, 0, 0, 0, 0, 0, 0, 0, 0, 0, 0, 0, 0, 0, 0, 0, 0, 0, 0, 0, 0, 0,\n",
              "       0, 0, 0, 0, 0, 0, 0, 0, 0, 1, 0, 0, 0, 0, 0, 0, 0, 0, 0, 1, 0, 0,\n",
              "       0, 0, 0, 0, 0, 0, 0, 0, 0, 0, 0, 0, 0, 0, 0, 0, 0, 0, 0, 0, 0, 0,\n",
              "       1, 0, 0, 0, 0, 0, 0, 0, 0, 0, 0, 0, 0, 0, 0, 0, 1, 0, 0, 0, 0, 0,\n",
              "       0, 0, 0, 0, 0, 0, 0, 0, 0, 0, 0, 0, 0, 0, 0, 0, 0, 1, 0, 0, 0, 0,\n",
              "       0, 0, 0, 0, 0, 0, 0, 1, 0, 0, 0, 0, 0, 1, 0, 0, 0, 0, 0, 0, 0, 0,\n",
              "       0, 0, 0, 0, 0, 0, 0, 0, 0, 0, 0, 0, 0, 1, 0, 0, 0, 0, 0, 0, 0, 0,\n",
              "       0, 0, 0, 0, 0, 0, 0, 0, 0, 0, 0, 0, 0, 0, 0, 0, 0, 0, 0, 0, 0, 0,\n",
              "       0, 0, 0, 0, 1, 0, 0, 0, 0, 0, 0, 0, 0, 0, 0, 0, 0, 0, 0, 0, 0, 0,\n",
              "       0, 0, 0, 0, 0, 0, 0, 0, 0, 0, 0, 0, 0, 0, 0, 0, 0, 0, 0, 1, 0, 0,\n",
              "       0, 0, 0, 0, 0, 0, 0, 0, 0, 0, 0, 0, 0, 0, 0, 0, 0, 0, 0, 0, 0, 0,\n",
              "       0, 0, 0, 0, 0, 0, 0, 0, 0, 0, 0, 0, 1, 0, 0, 0, 0, 0, 0, 0, 0, 0,\n",
              "       0, 0, 0, 0, 0, 0, 0, 0, 0, 0, 0, 0, 0, 0, 0, 0, 0, 0, 0, 0, 0, 0,\n",
              "       0, 0, 0, 0, 0, 0, 0, 0, 0, 0, 0, 0, 0, 0, 0, 0, 0, 0, 0, 0, 0, 0,\n",
              "       0, 0, 0, 0, 0, 0, 0, 0, 0, 0, 0, 0, 0, 0, 0, 0, 0, 0, 0, 0, 0, 0,\n",
              "       0, 0, 0, 0, 0, 0, 0, 0, 0, 0, 0, 0, 0, 0, 0, 0, 0, 0, 0, 0, 0, 0,\n",
              "       0, 0, 0, 1, 0, 0, 0, 0, 0, 0, 0, 0, 0, 0, 0, 0, 0, 0, 0, 0, 0, 0,\n",
              "       0, 0, 0, 0, 0, 0, 0, 0, 0, 0, 0, 0, 0, 0, 0, 0, 0, 0, 0, 0, 0, 0,\n",
              "       0, 0, 0, 0, 0, 0, 0, 0, 0, 0, 0, 0, 0, 0, 0, 0, 0, 0, 0, 0, 0, 0,\n",
              "       0, 0, 0, 0, 0, 0, 0, 0, 0, 0, 0, 0, 0, 0, 0, 0, 0, 1, 0, 0, 0, 0,\n",
              "       0, 0, 0, 0, 0, 0, 0, 0, 0, 0, 0, 0, 0, 0, 0, 0, 0, 0, 0, 0, 0, 0,\n",
              "       0, 0, 0, 0, 0, 0, 0, 0, 0, 0, 0, 0, 1, 0, 0, 0, 0, 0, 0, 0, 0, 0,\n",
              "       0, 0, 0, 0, 0, 1, 0, 0, 1, 0, 0, 0, 0, 0, 0, 0, 0, 1, 0, 0, 0, 0,\n",
              "       0, 0, 0, 0, 0, 0, 0, 0, 0, 0, 0, 0, 0, 0, 0, 0, 0, 0, 0, 0, 0, 0,\n",
              "       0, 0, 0, 0, 0, 0, 0, 0, 0, 0, 0, 0, 0, 0, 0, 0, 0, 0, 0, 0, 0, 0,\n",
              "       0, 0, 0, 0, 0, 0, 0, 0, 0, 0, 0, 0, 0, 0, 0, 0, 0, 1, 0, 0, 0, 0,\n",
              "       0, 0, 0, 0, 0, 0, 0, 0, 0, 0, 0, 0, 0, 1, 0, 0, 0, 0, 0, 0, 0, 0,\n",
              "       0, 0, 0, 0, 0, 0, 0, 0, 0, 0, 0, 0, 0, 0, 0, 0, 0, 0, 0, 0, 0, 0,\n",
              "       0, 1, 0, 0, 0, 0, 0, 0, 0, 0, 0, 0, 0, 0, 0, 0, 1, 0, 0, 0, 0, 0,\n",
              "       0, 0, 0, 0, 0, 0, 0, 0, 0, 0, 0, 0, 0, 0, 0, 0, 0, 0, 0, 0, 0, 0,\n",
              "       0, 0, 0, 0])"
            ]
          },
          "metadata": {
            "tags": []
          },
          "execution_count": 107
        }
      ]
    },
    {
      "cell_type": "markdown",
      "metadata": {
        "id": "vsEtj1ayAy0o"
      },
      "source": [
        "#**Aaccuracies in scaled and unscaled data with PCA. 🙉 and It looks far better then the previous**\n",
        "\n",
        "Increment in **PCA(n_components=2)** decreases the Accuracy Level e.g. *if it was 9 then the accuracy would be arround 81%*"
      ]
    },
    {
      "cell_type": "code",
      "metadata": {
        "id": "gvv_sTm4KOL2",
        "colab": {
          "base_uri": "https://localhost:8080/"
        },
        "outputId": "9f39420d-236a-4d4a-b17f-cd28b7ad0c45"
      },
      "source": [
        "\n",
        "print('\\nPrediction accuracy for the (Unscaled) normal test dataset with PCA')\n",
        "print('{:.2%}\\n'.format(metrics.accuracy_score(Ytest, pred_test)))\n",
        "\n",
        "print('\\nPrediction accuracy for the standardized test dataset with PCA')\n",
        "print('{:.2%}\\n'.format(metrics.accuracy_score(Ytest, pred_test_std)))\n"
      ],
      "execution_count": 108,
      "outputs": [
        {
          "output_type": "stream",
          "text": [
            "\n",
            "Prediction accuracy for the (Unscaled) normal test dataset with PCA\n",
            "91.07%\n",
            "\n",
            "\n",
            "Prediction accuracy for the standardized test dataset with PCA\n",
            "91.18%\n",
            "\n"
          ],
          "name": "stdout"
        }
      ]
    },
    {
      "cell_type": "markdown",
      "metadata": {
        "id": "MXoJ0-I7CbJE"
      },
      "source": [
        "#**Extract PCA from pipeline and show 1st principal components.**\n",
        "\n",
        "##Extract PCA from Pipeline."
      ]
    },
    {
      "cell_type": "code",
      "metadata": {
        "id": "E58E_Y8ujKrG"
      },
      "source": [
        "\n",
        "pca = unscaled_clf.named_steps['pca']\n",
        "pca_std = std_clf.named_steps['pca']"
      ],
      "execution_count": 109,
      "outputs": []
    },
    {
      "cell_type": "markdown",
      "metadata": {
        "id": "6YyYOm1FC3iR"
      },
      "source": [
        "##Show 1st Principal components."
      ]
    },
    {
      "cell_type": "code",
      "metadata": {
        "id": "h5DFSg3KjVQu",
        "colab": {
          "base_uri": "https://localhost:8080/"
        },
        "outputId": "87b299b6-da98-4f3c-990c-12b4deee8204"
      },
      "source": [
        "\n",
        "print('\\nPC 1 without scaling:\\n', pca.components_[0])\n",
        "print('\\nPC 1 with scaling:\\n', pca_std.components_[0])"
      ],
      "execution_count": 111,
      "outputs": [
        {
          "output_type": "stream",
          "text": [
            "\n",
            "PC 1 without scaling:\n",
            " [ 6.67798496e-04  2.13760406e-03 -1.71329063e-03 -1.08046005e-04\n",
            "  2.01929396e-03  1.56082020e-01  1.25269444e-03  1.04840553e-03\n",
            "  9.87120740e-01  3.48760556e-02]\n",
            "\n",
            "PC 1 with scaling:\n",
            " [-0.01444165  0.47686818 -0.3624722   0.02421952  0.31413132  0.51007396\n",
            "  0.24471331  0.20103741  0.23006256  0.35823474]\n"
          ],
          "name": "stdout"
        }
      ]
    },
    {
      "cell_type": "markdown",
      "metadata": {
        "id": "G5NyGgO6DCFs"
      },
      "source": [
        "#**PCA used without and with-scale on Xtrain data for visualization.**"
      ]
    },
    {
      "cell_type": "code",
      "metadata": {
        "id": "YKfQ_r8HjVUi"
      },
      "source": [
        "\n",
        "Xtrain_transformed = pca.transform(Xtrain)\n",
        "scaler = std_clf.named_steps['standardscaler']\n",
        "Xtrain_std_transformed = pca_std.transform(scaler.transform(Xtrain))"
      ],
      "execution_count": 113,
      "outputs": []
    },
    {
      "cell_type": "markdown",
      "metadata": {
        "id": "9niffAz2ldoX"
      },
      "source": [
        "#**Visualization:**\n",
        "##Standardized vs. Untouched dataset with PCA performed"
      ]
    },
    {
      "cell_type": "code",
      "metadata": {
        "id": "ReqnRK4WjVYT",
        "colab": {
          "base_uri": "https://localhost:8080/",
          "height": 690
        },
        "outputId": "04c15e81-ea34-4665-b514-4a3c3315f470"
      },
      "source": [
        "fig, (ax1, ax2) = plt.subplots(ncols=2, figsize=(20, 12))\n",
        "\n",
        "for l, c, m in zip(range(0, 3), ('Blue', 'Red', 'Green'), ('^', 's', 'o')):\n",
        "    ax1.scatter(Xtrain_transformed[Ytrain == l, 0],\n",
        "                Xtrain_transformed[Ytrain == l, 1],\n",
        "                color=c,\n",
        "                label='class %s' % l,\n",
        "                alpha=0.5,\n",
        "                marker=m\n",
        "                )\n",
        "\n",
        "for l, c, m in zip(range(0, 3), ('blue', 'red', 'green'), ('^', 's', 'o')):\n",
        "    ax2.scatter(Xtrain_std_transformed[Ytrain == l, 0],\n",
        "                Xtrain_std_transformed[Ytrain == l, 1],\n",
        "                color=c,\n",
        "                label='class %s' % l,\n",
        "                alpha=0.5,\n",
        "                marker=m\n",
        "                )\n",
        "\n",
        "ax1.set_title('Training dataset after PCA', fontsize = 30, color = 'Brown', fontweight = 14)\n",
        "ax2.set_title('Standardized training dataset after PCA', fontsize = 30, color = 'Brown', fontweight = 16)\n",
        "\n",
        "for ax in (ax1, ax2):\n",
        "    ax.set_xlabel('1st principal component', fontsize = 22, color = 'Blue')\n",
        "    ax.set_ylabel('2nd principal component', fontsize = 22, color = 'Blue')\n",
        "    ax.legend(loc='upper right', fontsize = 16,)\n",
        "    ax.grid()\n",
        "\n",
        "plt.tight_layout()\n",
        "\n",
        "plt.show()"
      ],
      "execution_count": 126,
      "outputs": [
        {
          "output_type": "display_data",
          "data": {
            "image/png": "[encoded data removed]",
            "text/plain": [
              "<Figure size 1440x864 with 2 Axes>"
            ]
          },
          "metadata": {
            "tags": [],
            "needs_background": "light"
          }
        }
      ]
    },
    {
      "cell_type": "code",
      "metadata": {
        "id": "eIq87zpSjVcO"
      },
      "source": [
        ""
      ],
      "execution_count": null,
      "outputs": []
    },
    {
      "cell_type": "markdown",
      "metadata": {
        "id": "W_shyCn0hiIF"
      },
      "source": [
        "#**Cross-validation:**\n",
        "##Unscaled/normal Test data set with PCA."
      ]
    },
    {
      "cell_type": "code",
      "metadata": {
        "id": "fJKdAz7nKOPQ",
        "colab": {
          "base_uri": "https://localhost:8080/"
        },
        "outputId": "bab1788d-efe1-4c7e-e623-90e122d03c11"
      },
      "source": [
        "xvalscores = cross_validate(unscaled_clf, trnx, trny, cv=9, return_estimator=True)\n",
        "sorted(xvalscores.keys())\n",
        "xvalscores"
      ],
      "execution_count": 132,
      "outputs": [
        {
          "output_type": "execute_result",
          "data": {
            "text/plain": [
              "{'estimator': (Pipeline(memory=None,\n",
              "           steps=[('pca',\n",
              "                   PCA(copy=True, iterated_power='auto', n_components=2,\n",
              "                       random_state=None, svd_solver='auto', tol=0.0,\n",
              "                       whiten=False)),\n",
              "                  ('gaussiannb', GaussianNB(priors=None, var_smoothing=1e-09))],\n",
              "           verbose=False), Pipeline(memory=None,\n",
              "           steps=[('pca',\n",
              "                   PCA(copy=True, iterated_power='auto', n_components=2,\n",
              "                       random_state=None, svd_solver='auto', tol=0.0,\n",
              "                       whiten=False)),\n",
              "                  ('gaussiannb', GaussianNB(priors=None, var_smoothing=1e-09))],\n",
              "           verbose=False), Pipeline(memory=None,\n",
              "           steps=[('pca',\n",
              "                   PCA(copy=True, iterated_power='auto', n_components=2,\n",
              "                       random_state=None, svd_solver='auto', tol=0.0,\n",
              "                       whiten=False)),\n",
              "                  ('gaussiannb', GaussianNB(priors=None, var_smoothing=1e-09))],\n",
              "           verbose=False), Pipeline(memory=None,\n",
              "           steps=[('pca',\n",
              "                   PCA(copy=True, iterated_power='auto', n_components=2,\n",
              "                       random_state=None, svd_solver='auto', tol=0.0,\n",
              "                       whiten=False)),\n",
              "                  ('gaussiannb', GaussianNB(priors=None, var_smoothing=1e-09))],\n",
              "           verbose=False), Pipeline(memory=None,\n",
              "           steps=[('pca',\n",
              "                   PCA(copy=True, iterated_power='auto', n_components=2,\n",
              "                       random_state=None, svd_solver='auto', tol=0.0,\n",
              "                       whiten=False)),\n",
              "                  ('gaussiannb', GaussianNB(priors=None, var_smoothing=1e-09))],\n",
              "           verbose=False), Pipeline(memory=None,\n",
              "           steps=[('pca',\n",
              "                   PCA(copy=True, iterated_power='auto', n_components=2,\n",
              "                       random_state=None, svd_solver='auto', tol=0.0,\n",
              "                       whiten=False)),\n",
              "                  ('gaussiannb', GaussianNB(priors=None, var_smoothing=1e-09))],\n",
              "           verbose=False), Pipeline(memory=None,\n",
              "           steps=[('pca',\n",
              "                   PCA(copy=True, iterated_power='auto', n_components=2,\n",
              "                       random_state=None, svd_solver='auto', tol=0.0,\n",
              "                       whiten=False)),\n",
              "                  ('gaussiannb', GaussianNB(priors=None, var_smoothing=1e-09))],\n",
              "           verbose=False), Pipeline(memory=None,\n",
              "           steps=[('pca',\n",
              "                   PCA(copy=True, iterated_power='auto', n_components=2,\n",
              "                       random_state=None, svd_solver='auto', tol=0.0,\n",
              "                       whiten=False)),\n",
              "                  ('gaussiannb', GaussianNB(priors=None, var_smoothing=1e-09))],\n",
              "           verbose=False), Pipeline(memory=None,\n",
              "           steps=[('pca',\n",
              "                   PCA(copy=True, iterated_power='auto', n_components=2,\n",
              "                       random_state=None, svd_solver='auto', tol=0.0,\n",
              "                       whiten=False)),\n",
              "                  ('gaussiannb', GaussianNB(priors=None, var_smoothing=1e-09))],\n",
              "           verbose=False)),\n",
              " 'fit_time': array([0.02430081, 0.02225018, 0.02077651, 0.02133322, 0.0190835 ,\n",
              "        0.02013278, 0.02030897, 0.01069117, 0.01104403]),\n",
              " 'score_time': array([0.00204515, 0.00627518, 0.00651622, 0.00619531, 0.00627899,\n",
              "        0.00201869, 0.0062139 , 0.00208449, 0.00217676]),\n",
              " 'test_score': array([0.92167102, 0.93472585, 0.92167102, 0.92428198, 0.93472585,\n",
              "        0.92167102, 0.93733681, 0.92931937, 0.92670157])}"
            ]
          },
          "metadata": {
            "tags": []
          },
          "execution_count": 132
        }
      ]
    },
    {
      "cell_type": "markdown",
      "metadata": {
        "id": "IW5q7pF6hxZm"
      },
      "source": [
        "##StandardScaler Test data set with PCA."
      ]
    },
    {
      "cell_type": "code",
      "metadata": {
        "id": "U5bW85XHKOTT",
        "colab": {
          "base_uri": "https://localhost:8080/"
        },
        "outputId": "eaea54d4-9ea4-4f72-91f0-927c722a7786"
      },
      "source": [
        "xvalscores = cross_validate(std_clf, trnx, trny, cv=9, return_estimator=True)\n",
        "sorted(xvalscores.keys())\n",
        "xvalscores"
      ],
      "execution_count": 133,
      "outputs": [
        {
          "output_type": "execute_result",
          "data": {
            "text/plain": [
              "{'estimator': (Pipeline(memory=None,\n",
              "           steps=[('standardscaler',\n",
              "                   StandardScaler(copy=True, with_mean=True, with_std=True)),\n",
              "                  ('pca',\n",
              "                   PCA(copy=True, iterated_power='auto', n_components=2,\n",
              "                       random_state=None, svd_solver='auto', tol=0.0,\n",
              "                       whiten=False)),\n",
              "                  ('gaussiannb', GaussianNB(priors=None, var_smoothing=1e-09))],\n",
              "           verbose=False), Pipeline(memory=None,\n",
              "           steps=[('standardscaler',\n",
              "                   StandardScaler(copy=True, with_mean=True, with_std=True)),\n",
              "                  ('pca',\n",
              "                   PCA(copy=True, iterated_power='auto', n_components=2,\n",
              "                       random_state=None, svd_solver='auto', tol=0.0,\n",
              "                       whiten=False)),\n",
              "                  ('gaussiannb', GaussianNB(priors=None, var_smoothing=1e-09))],\n",
              "           verbose=False), Pipeline(memory=None,\n",
              "           steps=[('standardscaler',\n",
              "                   StandardScaler(copy=True, with_mean=True, with_std=True)),\n",
              "                  ('pca',\n",
              "                   PCA(copy=True, iterated_power='auto', n_components=2,\n",
              "                       random_state=None, svd_solver='auto', tol=0.0,\n",
              "                       whiten=False)),\n",
              "                  ('gaussiannb', GaussianNB(priors=None, var_smoothing=1e-09))],\n",
              "           verbose=False), Pipeline(memory=None,\n",
              "           steps=[('standardscaler',\n",
              "                   StandardScaler(copy=True, with_mean=True, with_std=True)),\n",
              "                  ('pca',\n",
              "                   PCA(copy=True, iterated_power='auto', n_components=2,\n",
              "                       random_state=None, svd_solver='auto', tol=0.0,\n",
              "                       whiten=False)),\n",
              "                  ('gaussiannb', GaussianNB(priors=None, var_smoothing=1e-09))],\n",
              "           verbose=False), Pipeline(memory=None,\n",
              "           steps=[('standardscaler',\n",
              "                   StandardScaler(copy=True, with_mean=True, with_std=True)),\n",
              "                  ('pca',\n",
              "                   PCA(copy=True, iterated_power='auto', n_components=2,\n",
              "                       random_state=None, svd_solver='auto', tol=0.0,\n",
              "                       whiten=False)),\n",
              "                  ('gaussiannb', GaussianNB(priors=None, var_smoothing=1e-09))],\n",
              "           verbose=False), Pipeline(memory=None,\n",
              "           steps=[('standardscaler',\n",
              "                   StandardScaler(copy=True, with_mean=True, with_std=True)),\n",
              "                  ('pca',\n",
              "                   PCA(copy=True, iterated_power='auto', n_components=2,\n",
              "                       random_state=None, svd_solver='auto', tol=0.0,\n",
              "                       whiten=False)),\n",
              "                  ('gaussiannb', GaussianNB(priors=None, var_smoothing=1e-09))],\n",
              "           verbose=False), Pipeline(memory=None,\n",
              "           steps=[('standardscaler',\n",
              "                   StandardScaler(copy=True, with_mean=True, with_std=True)),\n",
              "                  ('pca',\n",
              "                   PCA(copy=True, iterated_power='auto', n_components=2,\n",
              "                       random_state=None, svd_solver='auto', tol=0.0,\n",
              "                       whiten=False)),\n",
              "                  ('gaussiannb', GaussianNB(priors=None, var_smoothing=1e-09))],\n",
              "           verbose=False), Pipeline(memory=None,\n",
              "           steps=[('standardscaler',\n",
              "                   StandardScaler(copy=True, with_mean=True, with_std=True)),\n",
              "                  ('pca',\n",
              "                   PCA(copy=True, iterated_power='auto', n_components=2,\n",
              "                       random_state=None, svd_solver='auto', tol=0.0,\n",
              "                       whiten=False)),\n",
              "                  ('gaussiannb', GaussianNB(priors=None, var_smoothing=1e-09))],\n",
              "           verbose=False), Pipeline(memory=None,\n",
              "           steps=[('standardscaler',\n",
              "                   StandardScaler(copy=True, with_mean=True, with_std=True)),\n",
              "                  ('pca',\n",
              "                   PCA(copy=True, iterated_power='auto', n_components=2,\n",
              "                       random_state=None, svd_solver='auto', tol=0.0,\n",
              "                       whiten=False)),\n",
              "                  ('gaussiannb', GaussianNB(priors=None, var_smoothing=1e-09))],\n",
              "           verbose=False)),\n",
              " 'fit_time': array([0.02691317, 0.02395201, 0.02370167, 0.02438426, 0.02455616,\n",
              "        0.02414656, 0.02511239, 0.02463007, 0.02605128]),\n",
              " 'score_time': array([0.0022614 , 0.00699925, 0.00680208, 0.00703549, 0.00755477,\n",
              "        0.00714111, 0.00761127, 0.00253916, 0.00235534]),\n",
              " 'test_score': array([0.93211488, 0.92950392, 0.91122715, 0.91644909, 0.92689295,\n",
              "        0.92428198, 0.92950392, 0.91884817, 0.92408377])}"
            ]
          },
          "metadata": {
            "tags": []
          },
          "execution_count": 133
        }
      ]
    },
    {
      "cell_type": "code",
      "metadata": {
        "id": "N3dfN2AOKOXf"
      },
      "source": [
        ""
      ],
      "execution_count": null,
      "outputs": []
    }
  ]
}